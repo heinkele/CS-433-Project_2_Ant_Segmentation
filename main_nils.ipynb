{
 "cells": [
  {
   "cell_type": "code",
   "execution_count": 1,
   "metadata": {},
   "outputs": [
    {
     "name": "stderr",
     "output_type": "stream",
     "text": [
      "Processing Images:  99%|█████████▉| 190/191 [02:31<00:00,  1.26it/s]\n"
     ]
    }
   ],
   "source": [
    "import os\n",
    "from PIL import Image\n",
    "import numpy as np\n",
    "import torch\n",
    "from torchvision import transforms\n",
    "from tqdm import tqdm\n",
    "\n",
    "# Directories\n",
    "image_dir = \"/Users/nilsmanni/Desktop/MA_3/ML/muticlass_model/masks_4_categories\"  # Directory containing the RGB images\n",
    "gt_dir = \"/Users/nilsmanni/Desktop/MA_3/ML/ground_truth_img\"         # Directory containing the ground truth masks\n",
    "output_dir = \"/Users/nilsmanni/Desktop/MA_3/ML/processed_data/\"  # Directory to save processed patches\n",
    "patch_size = 256  # Size of the square patches\n",
    "\n",
    "# Ensure output directories exist\n",
    "os.makedirs(output_dir, exist_ok=True)\n",
    "image_output_dir = os.path.join(output_dir, \"images\")\n",
    "gt_output_dir = os.path.join(output_dir, \"groundtruths\")\n",
    "os.makedirs(image_output_dir, exist_ok=True)\n",
    "os.makedirs(gt_output_dir, exist_ok=True)\n",
    "\n",
    "# Transformation for preprocessing\n",
    "transform = transforms.Compose([\n",
    "    transforms.ToTensor(),  # Convert to Tensor (C, H, W)\n",
    "    transforms.Normalize(mean=[0.485, 0.456, 0.406],  # Normalize using ImageNet stats\n",
    "                         std=[0.229, 0.224, 0.225])\n",
    "])\n",
    "\n",
    "# Function to extract patches from an image\n",
    "def extract_patches(image, patch_size):\n",
    "    patches = []\n",
    "    height, width = image.shape[-2], image.shape[-1]  # H, W from (C, H, W)\n",
    "    for y in range(0, height - patch_size + 1, patch_size):\n",
    "        for x in range(0, width - patch_size + 1, patch_size):\n",
    "            patch = image[:, y:y+patch_size, x:x+patch_size]  # Extract patch (C, H, W)\n",
    "            patches.append(patch)\n",
    "    return patches\n",
    "\n",
    "# Preprocess RGB images and corresponding ground truth masks\n",
    "def preprocess_images_and_masks(image_dir, gt_dir, output_dir, patch_size):\n",
    "    image_files = sorted(os.listdir(image_dir))\n",
    "    gt_files = sorted(os.listdir(gt_dir))\n",
    "\n",
    "    for image_file, gt_file in tqdm(zip(image_files, gt_files), total=len(image_files), desc=\"Processing Images\"):\n",
    "        # Load image and ground truth mask\n",
    "        image_path = os.path.join(image_dir, image_file)\n",
    "        gt_path = os.path.join(gt_dir, gt_file)\n",
    "\n",
    "        image = Image.open(image_path).convert('RGB')  # Ensure image is RGB\n",
    "        gt = Image.open(gt_path).convert('L')  # Convert ground truth to grayscale\n",
    "\n",
    "        # Transform the image and mask\n",
    "        image_tensor = transform(image)\n",
    "        gt_tensor = torch.tensor(np.array(gt), dtype=torch.float32).unsqueeze(0)  # Add channel dim (1, H, W)\n",
    "\n",
    "        # Extract patches\n",
    "        image_patches = extract_patches(image_tensor, patch_size)\n",
    "        gt_patches = extract_patches(gt_tensor, patch_size)\n",
    "\n",
    "        # Save patches\n",
    "        base_name = os.path.splitext(image_file)[0]\n",
    "        for i, (img_patch, gt_patch) in enumerate(zip(image_patches, gt_patches)):\n",
    "            img_patch_path = os.path.join(image_output_dir, f\"{base_name}_patch_{i}.pt\")\n",
    "            gt_patch_path = os.path.join(gt_output_dir, f\"{base_name}_gt_patch_{i}.pt\")\n",
    "            torch.save(img_patch, img_patch_path)\n",
    "            torch.save(gt_patch, gt_patch_path)\n",
    "\n",
    "# Run preprocessing\n",
    "preprocess_images_and_masks(image_dir, gt_dir, output_dir, patch_size)\n"
   ]
  },
  {
   "cell_type": "code",
   "execution_count": 2,
   "metadata": {},
   "outputs": [
    {
     "ename": "NameError",
     "evalue": "name 'PatchesDataset' is not defined",
     "output_type": "error",
     "traceback": [
      "\u001b[0;31m---------------------------------------------------------------------------\u001b[0m",
      "\u001b[0;31mNameError\u001b[0m                                 Traceback (most recent call last)",
      "Cell \u001b[0;32mIn[2], line 22\u001b[0m\n\u001b[1;32m     19\u001b[0m         groundtruths_paths_dict[patch_idx]\u001b[38;5;241m.\u001b[39mappend(os\u001b[38;5;241m.\u001b[39mpath\u001b[38;5;241m.\u001b[39mjoin(gt_output_dir, gt_file))\n\u001b[1;32m     21\u001b[0m \u001b[38;5;66;03m# Load dataset\u001b[39;00m\n\u001b[0;32m---> 22\u001b[0m dataset \u001b[38;5;241m=\u001b[39m \u001b[43mPatchesDataset\u001b[49m(images_paths_dict, groundtruths_paths_dict, \u001b[38;5;124m\"\u001b[39m\u001b[38;5;124mAntsSegmentation\u001b[39m\u001b[38;5;124m\"\u001b[39m)\n",
      "\u001b[0;31mNameError\u001b[0m: name 'PatchesDataset' is not defined"
     ]
    }
   ],
   "source": [
    "images_paths_dict = {}\n",
    "groundtruths_paths_dict = {}\n",
    "\n",
    "# Dynamically calculate the number of patches\n",
    "for idx, image_file in enumerate(sorted(os.listdir(image_output_dir))):\n",
    "    if \"patch\" in image_file:\n",
    "        # Extract patch index from filename\n",
    "        patch_idx = int(image_file.split(\"_patch_\")[-1].split(\".\")[0])\n",
    "        if idx not in images_paths_dict:\n",
    "            images_paths_dict[patch_idx] = []\n",
    "        images_paths_dict[patch_idx].append(os.path.join(image_output_dir, image_file))\n",
    "\n",
    "for idx, gt_file in enumerate(sorted(os.listdir(gt_output_dir))):\n",
    "    if \"patch\" in gt_file:\n",
    "        # Extract patch index from filename\n",
    "        patch_idx = int(gt_file.split(\"_gt_patch_\")[-1].split(\".\")[0])\n",
    "        if idx not in groundtruths_paths_dict:\n",
    "            groundtruths_paths_dict[patch_idx] = []\n",
    "        groundtruths_paths_dict[patch_idx].append(os.path.join(gt_output_dir, gt_file))\n",
    "\n",
    "# Load dataset\n",
    "dataset = PatchesDataset(images_paths_dict, groundtruths_paths_dict, \"AntsSegmentation\")\n"
   ]
  },
  {
   "cell_type": "code",
   "execution_count": null,
   "metadata": {},
   "outputs": [],
   "source": []
  }
 ],
 "metadata": {
  "kernelspec": {
   "display_name": "local_env",
   "language": "python",
   "name": "python3"
  },
  "language_info": {
   "codemirror_mode": {
    "name": "ipython",
    "version": 3
   },
   "file_extension": ".py",
   "mimetype": "text/x-python",
   "name": "python",
   "nbconvert_exporter": "python",
   "pygments_lexer": "ipython3",
   "version": "3.9.20"
  }
 },
 "nbformat": 4,
 "nbformat_minor": 2
}
