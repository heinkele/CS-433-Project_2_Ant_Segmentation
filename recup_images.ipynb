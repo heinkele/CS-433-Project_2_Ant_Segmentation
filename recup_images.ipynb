{
 "cells": [
  {
   "cell_type": "markdown",
   "metadata": {},
   "source": [
    "**Ouvrir les le fichier et lire les images (inspirée par Phi)**"
   ]
  },
  {
   "cell_type": "code",
   "execution_count": 1,
   "metadata": {},
   "outputs": [],
   "source": [
    "#!pip install -r requirements.txt\n",
    "from tqdm import tqdm\n",
    "import subprocess\n",
    "from PIL import Image\n",
    "import numpy as np\n",
    "#import rasterio as rio\n",
    "import pandas as pd\n",
    "import os\n",
    "import shutil\n",
    "from torchvision import transforms\n",
    "from torchvision.utils import save_image\n",
    "\n",
    "#from utils import *\n",
    "#from unet_whole_model import *\n",
    "#from dataset import *\n",
    "\n",
    "%matplotlib inline\n",
    "%load_ext autoreload\n",
    "%autoreload 2"
   ]
  },
  {
   "cell_type": "code",
   "execution_count": 7,
   "metadata": {},
   "outputs": [
    {
     "name": "stdout",
     "output_type": "stream",
     "text": [
      "190 images ont été copiées dans : /Users/nilsmanni/Desktop/MA_3/ML/images_finales\n"
     ]
    }
   ],
   "source": [
    "# Chemins des dossiers\n",
    "original_images_dir = \"/Users/nilsmanni/Desktop/MA_3/ML/original\"  # Dossier avec les images originales\n",
    "modified_images_dir = \"/Users/nilsmanni/Desktop/MA_3/ML/muticlass_model/masks_4_categories\"  # Dossier avec les images modifiées\n",
    "output_dir = \"/Users/nilsmanni/Desktop/MA_3/ML/images_finales\"  # Dossier de sortie\n",
    "\n",
    "# Créer le dossier de sortie s'il n'existe pas\n",
    "os.makedirs(output_dir, exist_ok=True)\n",
    "\n",
    "# Charger les noms des images dans le deuxième dossier (sans les 3 derniers caractères)\n",
    "modified_image_names = {\n",
    "    file_name[:-7] for file_name in os.listdir(modified_images_dir)\n",
    "}\n",
    "\n",
    "# Initialiser un compteur\n",
    "copied_files_count = 0\n",
    "\n",
    "# Parcourir le premier dossier et copier les fichiers correspondants\n",
    "for file_name in os.listdir(original_images_dir):\n",
    "    original_name_key = file_name[:-5]  # Enlever le dernier caractère du nom dans le dossier 1\n",
    "    if original_name_key in modified_image_names:\n",
    "        original_file_path = os.path.join(original_images_dir, file_name)\n",
    "        output_file_path = os.path.join(output_dir, file_name)\n",
    "        \n",
    "        # Copier le fichier dans le dossier de sortie\n",
    "        shutil.copy(original_file_path, output_file_path)\n",
    "        copied_files_count += 1\n",
    "\n",
    "print(f\"{copied_files_count} images ont été copiées dans : {output_dir}\")\n"
   ]
  },
  {
   "cell_type": "code",
   "execution_count": null,
   "metadata": {},
   "outputs": [],
   "source": []
  }
 ],
 "metadata": {
  "kernelspec": {
   "display_name": "local_env",
   "language": "python",
   "name": "python3"
  },
  "language_info": {
   "codemirror_mode": {
    "name": "ipython",
    "version": 3
   },
   "file_extension": ".py",
   "mimetype": "text/x-python",
   "name": "python",
   "nbconvert_exporter": "python",
   "pygments_lexer": "ipython3",
   "version": "3.9.20"
  }
 },
 "nbformat": 4,
 "nbformat_minor": 2
}
