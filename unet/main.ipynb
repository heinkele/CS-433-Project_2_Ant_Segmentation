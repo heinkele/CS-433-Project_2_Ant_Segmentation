{
 "cells": [
  {
   "cell_type": "markdown",
   "metadata": {},
   "source": [
    "**Deep Learning Classification**\n",
    "\n",
    "Step : \n",
    "- Data Preparation : create the patch and associate each patch to its corresponding groundtruth\n",
    "- Data Preprocessing : standardization of the patch\n",
    "- Create the U-net model \n",
    "- Split the date between Training, Validation and Test \n",
    "- Train models : two distinct models can be train one on NDVI images and the other on Multispectral images\n",
    "- Test the model : model could be test on other spatial or temporal data to evaluate the robustness of it\n",
    "- Compare Results obtain"
   ]
  },
  {
   "cell_type": "markdown",
   "metadata": {},
   "source": [
    "**1) Data Preparation**"
   ]
  },
  {
   "cell_type": "code",
   "execution_count": 2,
   "metadata": {},
   "outputs": [],
   "source": [
    "#!pip install -r requirements.txt\n",
    "from tqdm import tqdm\n",
    "import subprocess\n",
    "from PIL import Image\n",
    "import numpy as np\n",
    "import rasterio as rio\n",
    "import pandas as pd\n",
    "import os\n",
    "from torchvision import transforms\n",
    "from torchvision.utils import save_image\n",
    "\n",
    "from utils import *\n",
    "from unet_whole_model import *\n",
    "from dataset import *\n",
    "\n",
    "%matplotlib inline\n",
    "%load_ext autoreload\n",
    "%autoreload 2"
   ]
  },
  {
   "cell_type": "code",
   "execution_count": 3,
   "metadata": {},
   "outputs": [],
   "source": [
    "image_dir = \"./image_PeelRiver/\"\n",
    "output_dir = \"./PeelRiver/\"\n",
    "gt_dir = \"./gt_PeelRiver/\"\n",
    "gt_output_dir = \"./PeelRiver/gt/\"\n",
    "band_order = [3, 2, 1, 4] \n",
    "patch_size = 256\n"
   ]
  },
  {
   "cell_type": "markdown",
   "metadata": {},
   "source": [
    "Function to create patch from the images"
   ]
  },
  {
   "cell_type": "code",
   "execution_count": 63,
   "metadata": {},
   "outputs": [],
   "source": [
    "def open_image(image_path): \n",
    "    # Ouvrir le fichier TIFF avec rasterio\n",
    "    with rio.open(image_path) as img:\n",
    "        # Lire les bandes spécifiées\n",
    "        blue, green, red, nir = img.read(band_order)\n",
    "    return blue, green, red, nir\n",
    "\n",
    "def extract_patches(blue, green, red, nir):\n",
    "    blue_patches = []\n",
    "    green_patches = []\n",
    "    red_patches = []\n",
    "    nir_patches = []\n",
    "    height, width = blue.shape\n",
    "    for y in range(0, height - patch_size + 1, patch_size):\n",
    "        for x in range(0, width - patch_size + 1, patch_size):\n",
    "            # Extraire les patchs pour chaque bande\n",
    "            blue_patch = blue[y:y+patch_size, x:x+patch_size]\n",
    "            green_patch = green[y:y+patch_size, x:x+patch_size]\n",
    "            red_patch = red[y:y+patch_size, x:x+patch_size]\n",
    "            nir_patch = nir[y:y+patch_size, x:x+patch_size]\n",
    "\n",
    "            # Correction de la transparence\n",
    "            blue_patch = np.nan_to_num(blue_patch)\n",
    "            green_patch = np.nan_to_num(green_patch)\n",
    "            red_patch = np.nan_to_num(red_patch)\n",
    "            nir_patch = np.nan_to_num(nir_patch)\n",
    "\n",
    "            \n",
    "            # Ajouter les patchs normalisés aux listes\n",
    "            blue_patches.append(blue_patch)\n",
    "            green_patches.append(green_patch)\n",
    "            red_patches.append(red_patch)\n",
    "            nir_patches.append(nir_patch)\n",
    "    \n",
    "    blue_patches = np.array(blue_patches)\n",
    "    green_patches = np.array(green_patches)\n",
    "    red_patches = np.array(red_patches)\n",
    "    nir_patches = np.array(nir_patches)\n",
    "\n",
    "    return blue_patches, green_patches, red_patches, nir_patches\n",
    "\n",
    "def save_patch_as_png(patch_data, output_path):\n",
    "    patch_data_standardized = (patch_data - np.mean(patch_data)) / np.std(patch_data)\n",
    "    patch_data= (patch_data_standardized - np.min(patch_data_standardized)) / (np.max(patch_data_standardized) - np.min(patch_data_standardized)) \n",
    "        # Convertir les données en valeurs uint8\n",
    "    image_uint8 = (patch_data*255).astype('uint8')\n",
    "    patch_data_rgb = image_uint8[..., [2, 1, 0, 3]] \n",
    "    # Créer l'image à partir du tableau NumPy avec toutes les bandes\n",
    "    image = Image.fromarray(patch_data_rgb, mode='CMYK')\n",
    "    \n",
    "    # Enregistrer l'image au format TIFF\n",
    "    image.save(output_path, format='TIFF')\n"
   ]
  },
  {
   "cell_type": "code",
   "execution_count": 64,
   "metadata": {},
   "outputs": [],
   "source": [
    "# Liste des noms de fichiers dans le répertoire\n",
    "image_files = os.listdir(image_dir)\n",
    "\n",
    "date=0\n",
    "# Boucle sur chaque fichier d'image\n",
    "for image_file in image_files:\n",
    "    # Chemin complet de l'image\n",
    "    image_path = os.path.join(image_dir, image_file)\n",
    "    \n",
    "    # Ouvrir l'image avec les fonctions fournies\n",
    "    blue, green, red, nir = open_image(image_path)\n",
    "    \n",
    "    # Extraire les patchs de l'image\n",
    "    blue_patches, green_patches, red_patches, nir_patches = extract_patches(blue, green, red, nir)\n",
    "\n",
    "\n",
    "    image_name = f'date{date}'\n",
    "    image_output_dir = os.path.join(output_dir, image_name)\n",
    "    os.makedirs(image_output_dir, exist_ok=True)\n",
    "\n",
    "    # Sauvegarder chaque patch en tant que fichier PNG\n",
    "    for i, (blue_patch, green_patch, red_patch, nir_patch) in enumerate(zip(blue_patches, green_patches, red_patches, nir_patches), 1):\n",
    "        # Créer un nom de fichier unique pour chaque patch\n",
    "        output_patch_path =os.path.join(image_output_dir, f\"patch_{date}_{i}.tif\")\n",
    "        \n",
    "        # Créer un tableau 3D pour le patch composé des 4 bandes\n",
    "        patch_data = np.stack((blue_patch, green_patch, red_patch, nir_patch), axis=2)\n",
    "    \n",
    "        # Convertir et sauvegarder le patch en PNG\n",
    "        save_patch_as_png(patch_data, output_patch_path)\n",
    "    \n",
    "    date+=1\n",
    "        "
   ]
  },
  {
   "cell_type": "code",
   "execution_count": 78,
   "metadata": {},
   "outputs": [],
   "source": [
    "def open_gt(gt_path): \n",
    "    with rio.open(gt_path) as img:\n",
    "        gt= img.read(1)  \n",
    "    return gt\n",
    "\n",
    "def extract_gt_patches(gt, patch_size):\n",
    "    gt_patches = []\n",
    "    height, width = gt.shape\n",
    "\n",
    "    # Vérifier que la taille du patch est valide par rapport aux dimensions de l'image\n",
    "    if height < patch_size or width < patch_size:\n",
    "        raise ValueError(\"La taille du patch est plus grande que les dimensions de l'image\")\n",
    "\n",
    "    for y in range(0, height, patch_size):\n",
    "        for x in range(0, width, patch_size):\n",
    "            # Extraire le patch de la groundtruth\n",
    "            patch = gt[y:y+patch_size, x:x+patch_size]\n",
    "\n",
    "            # Vérifier si le patch a la même forme que les autres patchs\n",
    "            if patch.shape != (patch_size, patch_size):\n",
    "                # Si la forme du patch est incorrecte, passer au patch suivant\n",
    "                continue\n",
    "\n",
    "            gt_patches.append(patch)\n",
    "\n",
    "    gt_patches = np.array(gt_patches)\n",
    "\n",
    "    return gt_patches\n",
    "\n",
    "def save_gt_patch_as_png(patch_data, output_path):\n",
    "    # Convertir les valeurs booléennes en entiers (0 ou 255)\n",
    "    patch_data_uint8 = (patch_data * 255).astype('uint8')\n",
    "\n",
    "    # Créer l'image à partir du patch\n",
    "    patch_image = Image.fromarray(patch_data_uint8, mode='L')  # Mode 'L' pour une image en niveaux de gris\n",
    "\n",
    "    # Sauvegarder l'image au format PNG\n",
    "    patch_image.save(output_path)"
   ]
  },
  {
   "cell_type": "code",
   "execution_count": 79,
   "metadata": {},
   "outputs": [],
   "source": [
    "# Exemple d'utilisation\n",
    "groundtruth_path = gt_dir + 'labelled_image_PeelRiver.tif'\n",
    "\n",
    "# Ouvrir l'image groundtruth\n",
    "gt = open_gt(groundtruth_path)\n",
    "\n",
    "\n",
    "patches = extract_gt_patches(gt, patch_size)\n",
    "\n",
    "# Enregistrer chaque patch en tant qu'image PNG\n",
    "for i, patch in enumerate(patches, 1):\n",
    "    # Créer un nom de fichier unique pour chaque patch\n",
    "    output_patch_path = os.path.join(gt_output_dir, f\"gt_13_{i}.tif\")\n",
    "    \n",
    "    # Sauvegarder le patch en tant qu'image PNG\n",
    "    save_gt_patch_as_png(patch, output_patch_path)"
   ]
  },
  {
   "cell_type": "markdown",
   "metadata": {},
   "source": [
    "**2) Loading all the patches**\n",
    "\n",
    "We store the patches in pytorch datasets."
   ]
  },
  {
   "cell_type": "code",
   "execution_count": 4,
   "metadata": {},
   "outputs": [
    {
     "name": "stdout",
     "output_type": "stream",
     "text": [
      "{'date0': './PeelRiver/date0', 'date1': './PeelRiver/date1', 'date2': './PeelRiver/date2', 'date3': './PeelRiver/date3', 'date4': './PeelRiver/date4', 'date5': './PeelRiver/date5', 'date6': './PeelRiver/date6', 'date7': './PeelRiver/date7', 'date8': './PeelRiver/date8', 'date9': './PeelRiver/date9', 'date10': './PeelRiver/date10', 'date11': './PeelRiver/date11', 'date12': './PeelRiver/date12', 'gt': './PeelRiver/gt'}\n"
     ]
    }
   ],
   "source": [
    "file_path = \"./PeelRiver\"\n",
    "data_paths = {}\n",
    "\n",
    "#build paths for each pipeline\n",
    "\n",
    "for date in range(0,13):\n",
    "    data_paths[f\"date{date}\"] = f\"{file_path}/date{date}\"\n",
    "data_paths[\"gt\"] = f\"{file_path}/gt\"\n",
    "print(data_paths)"
   ]
  },
  {
   "cell_type": "code",
   "execution_count": 6,
   "metadata": {},
   "outputs": [
    {
     "name": "stderr",
     "output_type": "stream",
     "text": [
      "Loading data: 100%|██████████| 99/99 [00:00<00:00, 98607.48it/s]\n",
      "Loading data: 100%|██████████| 99/99 [00:00<00:00, 42799.02it/s]\n",
      "Loading data: 100%|██████████| 99/99 [00:00<00:00, 48702.33it/s]\n",
      "Loading data: 100%|██████████| 99/99 [00:00<00:00, 49633.77it/s]\n",
      "Loading data: 100%|██████████| 99/99 [00:00<00:00, 49479.99it/s]\n",
      "Loading data: 100%|██████████| 99/99 [00:00<00:00, 44953.57it/s]\n",
      "Loading data: 100%|██████████| 99/99 [00:00<00:00, 47799.71it/s]\n",
      "Loading data: 100%|██████████| 99/99 [00:00<00:00, 99291.27it/s]\n",
      "Loading data: 100%|██████████| 99/99 [00:00<00:00, 41947.28it/s]\n",
      "Loading data: 100%|██████████| 99/99 [00:00<00:00, 98420.50it/s]\n",
      "Loading data: 100%|██████████| 99/99 [00:00<00:00, 99243.81it/s]\n",
      "Loading data: 100%|██████████| 99/99 [00:00<00:00, 97979.26it/s]\n",
      "Loading data: 100%|██████████| 99/99 [00:00<00:00, 49462.31it/s]\n",
      "Loading data: 100%|██████████| 99/99 [00:00<00:00, 99220.09it/s]\n"
     ]
    }
   ],
   "source": [
    "all_data = {key : load_paths_data(path) for key, path in data_paths.items()}"
   ]
  },
  {
   "cell_type": "code",
   "execution_count": 7,
   "metadata": {},
   "outputs": [
    {
     "name": "stdout",
     "output_type": "stream",
     "text": [
      "defaultdict(<class 'list'>, {1: ['./PeelRiver/date0/patch_0_1.tif', './PeelRiver/date1/patch_1_1.tif', './PeelRiver/date2/patch_2_1.tif', './PeelRiver/date3/patch_3_1.tif', './PeelRiver/date4/patch_4_1.tif', './PeelRiver/date5/patch_5_1.tif', './PeelRiver/date6/patch_6_1.tif', './PeelRiver/date7/patch_7_1.tif', './PeelRiver/date8/patch_8_1.tif', './PeelRiver/date9/patch_9_1.tif', './PeelRiver/date10/patch_10_1.tif', './PeelRiver/date11/patch_11_1.tif', './PeelRiver/date12/patch_12_1.tif', './PeelRiver/gt/gt_13_1.tif'], 2: ['./PeelRiver/date0/patch_0_2.tif', './PeelRiver/date1/patch_1_2.tif', './PeelRiver/date2/patch_2_2.tif', './PeelRiver/date3/patch_3_2.tif', './PeelRiver/date4/patch_4_2.tif', './PeelRiver/date5/patch_5_2.tif', './PeelRiver/date6/patch_6_2.tif', './PeelRiver/date7/patch_7_2.tif', './PeelRiver/date8/patch_8_2.tif', './PeelRiver/date9/patch_9_2.tif', './PeelRiver/date10/patch_10_2.tif', './PeelRiver/date11/patch_11_2.tif', './PeelRiver/date12/patch_12_2.tif', './PeelRiver/gt/gt_13_2.tif'], 3: ['./PeelRiver/date0/patch_0_3.tif', './PeelRiver/date1/patch_1_3.tif', './PeelRiver/date2/patch_2_3.tif', './PeelRiver/date3/patch_3_3.tif', './PeelRiver/date4/patch_4_3.tif', './PeelRiver/date5/patch_5_3.tif', './PeelRiver/date6/patch_6_3.tif', './PeelRiver/date7/patch_7_3.tif', './PeelRiver/date8/patch_8_3.tif', './PeelRiver/date9/patch_9_3.tif', './PeelRiver/date10/patch_10_3.tif', './PeelRiver/date11/patch_11_3.tif', './PeelRiver/date12/patch_12_3.tif', './PeelRiver/gt/gt_13_3.tif'], 4: ['./PeelRiver/date0/patch_0_4.tif', './PeelRiver/date1/patch_1_4.tif', './PeelRiver/date2/patch_2_4.tif', './PeelRiver/date3/patch_3_4.tif', './PeelRiver/date4/patch_4_4.tif', './PeelRiver/date5/patch_5_4.tif', './PeelRiver/date6/patch_6_4.tif', './PeelRiver/date7/patch_7_4.tif', './PeelRiver/date8/patch_8_4.tif', './PeelRiver/date9/patch_9_4.tif', './PeelRiver/date10/patch_10_4.tif', './PeelRiver/date11/patch_11_4.tif', './PeelRiver/date12/patch_12_4.tif', './PeelRiver/gt/gt_13_4.tif'], 5: ['./PeelRiver/date0/patch_0_5.tif', './PeelRiver/date1/patch_1_5.tif', './PeelRiver/date2/patch_2_5.tif', './PeelRiver/date3/patch_3_5.tif', './PeelRiver/date4/patch_4_5.tif', './PeelRiver/date5/patch_5_5.tif', './PeelRiver/date6/patch_6_5.tif', './PeelRiver/date7/patch_7_5.tif', './PeelRiver/date8/patch_8_5.tif', './PeelRiver/date9/patch_9_5.tif', './PeelRiver/date10/patch_10_5.tif', './PeelRiver/date11/patch_11_5.tif', './PeelRiver/date12/patch_12_5.tif', './PeelRiver/gt/gt_13_5.tif'], 6: ['./PeelRiver/date0/patch_0_6.tif', './PeelRiver/date1/patch_1_6.tif', './PeelRiver/date2/patch_2_6.tif', './PeelRiver/date3/patch_3_6.tif', './PeelRiver/date4/patch_4_6.tif', './PeelRiver/date5/patch_5_6.tif', './PeelRiver/date6/patch_6_6.tif', './PeelRiver/date7/patch_7_6.tif', './PeelRiver/date8/patch_8_6.tif', './PeelRiver/date9/patch_9_6.tif', './PeelRiver/date10/patch_10_6.tif', './PeelRiver/date11/patch_11_6.tif', './PeelRiver/date12/patch_12_6.tif', './PeelRiver/gt/gt_13_6.tif'], 7: ['./PeelRiver/date0/patch_0_7.tif', './PeelRiver/date1/patch_1_7.tif', './PeelRiver/date2/patch_2_7.tif', './PeelRiver/date3/patch_3_7.tif', './PeelRiver/date4/patch_4_7.tif', './PeelRiver/date5/patch_5_7.tif', './PeelRiver/date6/patch_6_7.tif', './PeelRiver/date7/patch_7_7.tif', './PeelRiver/date8/patch_8_7.tif', './PeelRiver/date9/patch_9_7.tif', './PeelRiver/date10/patch_10_7.tif', './PeelRiver/date11/patch_11_7.tif', './PeelRiver/date12/patch_12_7.tif', './PeelRiver/gt/gt_13_7.tif'], 8: ['./PeelRiver/date0/patch_0_8.tif', './PeelRiver/date1/patch_1_8.tif', './PeelRiver/date2/patch_2_8.tif', './PeelRiver/date3/patch_3_8.tif', './PeelRiver/date4/patch_4_8.tif', './PeelRiver/date5/patch_5_8.tif', './PeelRiver/date6/patch_6_8.tif', './PeelRiver/date7/patch_7_8.tif', './PeelRiver/date8/patch_8_8.tif', './PeelRiver/date9/patch_9_8.tif', './PeelRiver/date10/patch_10_8.tif', './PeelRiver/date11/patch_11_8.tif', './PeelRiver/date12/patch_12_8.tif', './PeelRiver/gt/gt_13_8.tif'], 9: ['./PeelRiver/date0/patch_0_9.tif', './PeelRiver/date1/patch_1_9.tif', './PeelRiver/date2/patch_2_9.tif', './PeelRiver/date3/patch_3_9.tif', './PeelRiver/date4/patch_4_9.tif', './PeelRiver/date5/patch_5_9.tif', './PeelRiver/date6/patch_6_9.tif', './PeelRiver/date7/patch_7_9.tif', './PeelRiver/date8/patch_8_9.tif', './PeelRiver/date9/patch_9_9.tif', './PeelRiver/date10/patch_10_9.tif', './PeelRiver/date11/patch_11_9.tif', './PeelRiver/date12/patch_12_9.tif', './PeelRiver/gt/gt_13_9.tif'], 10: ['./PeelRiver/date0/patch_0_10.tif', './PeelRiver/date1/patch_1_10.tif', './PeelRiver/date2/patch_2_10.tif', './PeelRiver/date3/patch_3_10.tif', './PeelRiver/date4/patch_4_10.tif', './PeelRiver/date5/patch_5_10.tif', './PeelRiver/date6/patch_6_10.tif', './PeelRiver/date7/patch_7_10.tif', './PeelRiver/date8/patch_8_10.tif', './PeelRiver/date9/patch_9_10.tif', './PeelRiver/date10/patch_10_10.tif', './PeelRiver/date11/patch_11_10.tif', './PeelRiver/date12/patch_12_10.tif', './PeelRiver/gt/gt_13_10.tif'], 11: ['./PeelRiver/date0/patch_0_11.tif', './PeelRiver/date1/patch_1_11.tif', './PeelRiver/date2/patch_2_11.tif', './PeelRiver/date3/patch_3_11.tif', './PeelRiver/date4/patch_4_11.tif', './PeelRiver/date5/patch_5_11.tif', './PeelRiver/date6/patch_6_11.tif', './PeelRiver/date7/patch_7_11.tif', './PeelRiver/date8/patch_8_11.tif', './PeelRiver/date9/patch_9_11.tif', './PeelRiver/date10/patch_10_11.tif', './PeelRiver/date11/patch_11_11.tif', './PeelRiver/date12/patch_12_11.tif', './PeelRiver/gt/gt_13_11.tif'], 12: ['./PeelRiver/date0/patch_0_12.tif', './PeelRiver/date1/patch_1_12.tif', './PeelRiver/date2/patch_2_12.tif', './PeelRiver/date3/patch_3_12.tif', './PeelRiver/date4/patch_4_12.tif', './PeelRiver/date5/patch_5_12.tif', './PeelRiver/date6/patch_6_12.tif', './PeelRiver/date7/patch_7_12.tif', './PeelRiver/date8/patch_8_12.tif', './PeelRiver/date9/patch_9_12.tif', './PeelRiver/date10/patch_10_12.tif', './PeelRiver/date11/patch_11_12.tif', './PeelRiver/date12/patch_12_12.tif', './PeelRiver/gt/gt_13_12.tif'], 13: ['./PeelRiver/date0/patch_0_13.tif', './PeelRiver/date1/patch_1_13.tif', './PeelRiver/date2/patch_2_13.tif', './PeelRiver/date3/patch_3_13.tif', './PeelRiver/date4/patch_4_13.tif', './PeelRiver/date5/patch_5_13.tif', './PeelRiver/date6/patch_6_13.tif', './PeelRiver/date7/patch_7_13.tif', './PeelRiver/date8/patch_8_13.tif', './PeelRiver/date9/patch_9_13.tif', './PeelRiver/date10/patch_10_13.tif', './PeelRiver/date11/patch_11_13.tif', './PeelRiver/date12/patch_12_13.tif', './PeelRiver/gt/gt_13_13.tif'], 14: ['./PeelRiver/date0/patch_0_14.tif', './PeelRiver/date1/patch_1_14.tif', './PeelRiver/date2/patch_2_14.tif', './PeelRiver/date3/patch_3_14.tif', './PeelRiver/date4/patch_4_14.tif', './PeelRiver/date5/patch_5_14.tif', './PeelRiver/date6/patch_6_14.tif', './PeelRiver/date7/patch_7_14.tif', './PeelRiver/date8/patch_8_14.tif', './PeelRiver/date9/patch_9_14.tif', './PeelRiver/date10/patch_10_14.tif', './PeelRiver/date11/patch_11_14.tif', './PeelRiver/date12/patch_12_14.tif', './PeelRiver/gt/gt_13_14.tif'], 15: ['./PeelRiver/date0/patch_0_15.tif', './PeelRiver/date1/patch_1_15.tif', './PeelRiver/date2/patch_2_15.tif', './PeelRiver/date3/patch_3_15.tif', './PeelRiver/date4/patch_4_15.tif', './PeelRiver/date5/patch_5_15.tif', './PeelRiver/date6/patch_6_15.tif', './PeelRiver/date7/patch_7_15.tif', './PeelRiver/date8/patch_8_15.tif', './PeelRiver/date9/patch_9_15.tif', './PeelRiver/date10/patch_10_15.tif', './PeelRiver/date11/patch_11_15.tif', './PeelRiver/date12/patch_12_15.tif', './PeelRiver/gt/gt_13_15.tif'], 16: ['./PeelRiver/date0/patch_0_16.tif', './PeelRiver/date1/patch_1_16.tif', './PeelRiver/date2/patch_2_16.tif', './PeelRiver/date3/patch_3_16.tif', './PeelRiver/date4/patch_4_16.tif', './PeelRiver/date5/patch_5_16.tif', './PeelRiver/date6/patch_6_16.tif', './PeelRiver/date7/patch_7_16.tif', './PeelRiver/date8/patch_8_16.tif', './PeelRiver/date9/patch_9_16.tif', './PeelRiver/date10/patch_10_16.tif', './PeelRiver/date11/patch_11_16.tif', './PeelRiver/date12/patch_12_16.tif', './PeelRiver/gt/gt_13_16.tif'], 17: ['./PeelRiver/date0/patch_0_17.tif', './PeelRiver/date1/patch_1_17.tif', './PeelRiver/date2/patch_2_17.tif', './PeelRiver/date3/patch_3_17.tif', './PeelRiver/date4/patch_4_17.tif', './PeelRiver/date5/patch_5_17.tif', './PeelRiver/date6/patch_6_17.tif', './PeelRiver/date7/patch_7_17.tif', './PeelRiver/date8/patch_8_17.tif', './PeelRiver/date9/patch_9_17.tif', './PeelRiver/date10/patch_10_17.tif', './PeelRiver/date11/patch_11_17.tif', './PeelRiver/date12/patch_12_17.tif', './PeelRiver/gt/gt_13_17.tif'], 18: ['./PeelRiver/date0/patch_0_18.tif', './PeelRiver/date1/patch_1_18.tif', './PeelRiver/date2/patch_2_18.tif', './PeelRiver/date3/patch_3_18.tif', './PeelRiver/date4/patch_4_18.tif', './PeelRiver/date5/patch_5_18.tif', './PeelRiver/date6/patch_6_18.tif', './PeelRiver/date7/patch_7_18.tif', './PeelRiver/date8/patch_8_18.tif', './PeelRiver/date9/patch_9_18.tif', './PeelRiver/date10/patch_10_18.tif', './PeelRiver/date11/patch_11_18.tif', './PeelRiver/date12/patch_12_18.tif', './PeelRiver/gt/gt_13_18.tif'], 19: ['./PeelRiver/date0/patch_0_19.tif', './PeelRiver/date1/patch_1_19.tif', './PeelRiver/date2/patch_2_19.tif', './PeelRiver/date3/patch_3_19.tif', './PeelRiver/date4/patch_4_19.tif', './PeelRiver/date5/patch_5_19.tif', './PeelRiver/date6/patch_6_19.tif', './PeelRiver/date7/patch_7_19.tif', './PeelRiver/date8/patch_8_19.tif', './PeelRiver/date9/patch_9_19.tif', './PeelRiver/date10/patch_10_19.tif', './PeelRiver/date11/patch_11_19.tif', './PeelRiver/date12/patch_12_19.tif', './PeelRiver/gt/gt_13_19.tif'], 20: ['./PeelRiver/date0/patch_0_20.tif', './PeelRiver/date1/patch_1_20.tif', './PeelRiver/date2/patch_2_20.tif', './PeelRiver/date3/patch_3_20.tif', './PeelRiver/date4/patch_4_20.tif', './PeelRiver/date5/patch_5_20.tif', './PeelRiver/date6/patch_6_20.tif', './PeelRiver/date7/patch_7_20.tif', './PeelRiver/date8/patch_8_20.tif', './PeelRiver/date9/patch_9_20.tif', './PeelRiver/date10/patch_10_20.tif', './PeelRiver/date11/patch_11_20.tif', './PeelRiver/date12/patch_12_20.tif', './PeelRiver/gt/gt_13_20.tif'], 21: ['./PeelRiver/date0/patch_0_21.tif', './PeelRiver/date1/patch_1_21.tif', './PeelRiver/date2/patch_2_21.tif', './PeelRiver/date3/patch_3_21.tif', './PeelRiver/date4/patch_4_21.tif', './PeelRiver/date5/patch_5_21.tif', './PeelRiver/date6/patch_6_21.tif', './PeelRiver/date7/patch_7_21.tif', './PeelRiver/date8/patch_8_21.tif', './PeelRiver/date9/patch_9_21.tif', './PeelRiver/date10/patch_10_21.tif', './PeelRiver/date11/patch_11_21.tif', './PeelRiver/date12/patch_12_21.tif', './PeelRiver/gt/gt_13_21.tif'], 22: ['./PeelRiver/date0/patch_0_22.tif', './PeelRiver/date1/patch_1_22.tif', './PeelRiver/date2/patch_2_22.tif', './PeelRiver/date3/patch_3_22.tif', './PeelRiver/date4/patch_4_22.tif', './PeelRiver/date5/patch_5_22.tif', './PeelRiver/date6/patch_6_22.tif', './PeelRiver/date7/patch_7_22.tif', './PeelRiver/date8/patch_8_22.tif', './PeelRiver/date9/patch_9_22.tif', './PeelRiver/date10/patch_10_22.tif', './PeelRiver/date11/patch_11_22.tif', './PeelRiver/date12/patch_12_22.tif', './PeelRiver/gt/gt_13_22.tif'], 23: ['./PeelRiver/date0/patch_0_23.tif', './PeelRiver/date1/patch_1_23.tif', './PeelRiver/date2/patch_2_23.tif', './PeelRiver/date3/patch_3_23.tif', './PeelRiver/date4/patch_4_23.tif', './PeelRiver/date5/patch_5_23.tif', './PeelRiver/date6/patch_6_23.tif', './PeelRiver/date7/patch_7_23.tif', './PeelRiver/date8/patch_8_23.tif', './PeelRiver/date9/patch_9_23.tif', './PeelRiver/date10/patch_10_23.tif', './PeelRiver/date11/patch_11_23.tif', './PeelRiver/date12/patch_12_23.tif', './PeelRiver/gt/gt_13_23.tif'], 24: ['./PeelRiver/date0/patch_0_24.tif', './PeelRiver/date1/patch_1_24.tif', './PeelRiver/date2/patch_2_24.tif', './PeelRiver/date3/patch_3_24.tif', './PeelRiver/date4/patch_4_24.tif', './PeelRiver/date5/patch_5_24.tif', './PeelRiver/date6/patch_6_24.tif', './PeelRiver/date7/patch_7_24.tif', './PeelRiver/date8/patch_8_24.tif', './PeelRiver/date9/patch_9_24.tif', './PeelRiver/date10/patch_10_24.tif', './PeelRiver/date11/patch_11_24.tif', './PeelRiver/date12/patch_12_24.tif', './PeelRiver/gt/gt_13_24.tif'], 25: ['./PeelRiver/date0/patch_0_25.tif', './PeelRiver/date1/patch_1_25.tif', './PeelRiver/date2/patch_2_25.tif', './PeelRiver/date3/patch_3_25.tif', './PeelRiver/date4/patch_4_25.tif', './PeelRiver/date5/patch_5_25.tif', './PeelRiver/date6/patch_6_25.tif', './PeelRiver/date7/patch_7_25.tif', './PeelRiver/date8/patch_8_25.tif', './PeelRiver/date9/patch_9_25.tif', './PeelRiver/date10/patch_10_25.tif', './PeelRiver/date11/patch_11_25.tif', './PeelRiver/date12/patch_12_25.tif', './PeelRiver/gt/gt_13_25.tif'], 26: ['./PeelRiver/date0/patch_0_26.tif', './PeelRiver/date1/patch_1_26.tif', './PeelRiver/date2/patch_2_26.tif', './PeelRiver/date3/patch_3_26.tif', './PeelRiver/date4/patch_4_26.tif', './PeelRiver/date5/patch_5_26.tif', './PeelRiver/date6/patch_6_26.tif', './PeelRiver/date7/patch_7_26.tif', './PeelRiver/date8/patch_8_26.tif', './PeelRiver/date9/patch_9_26.tif', './PeelRiver/date10/patch_10_26.tif', './PeelRiver/date11/patch_11_26.tif', './PeelRiver/date12/patch_12_26.tif', './PeelRiver/gt/gt_13_26.tif'], 27: ['./PeelRiver/date0/patch_0_27.tif', './PeelRiver/date1/patch_1_27.tif', './PeelRiver/date2/patch_2_27.tif', './PeelRiver/date3/patch_3_27.tif', './PeelRiver/date4/patch_4_27.tif', './PeelRiver/date5/patch_5_27.tif', './PeelRiver/date6/patch_6_27.tif', './PeelRiver/date7/patch_7_27.tif', './PeelRiver/date8/patch_8_27.tif', './PeelRiver/date9/patch_9_27.tif', './PeelRiver/date10/patch_10_27.tif', './PeelRiver/date11/patch_11_27.tif', './PeelRiver/date12/patch_12_27.tif', './PeelRiver/gt/gt_13_27.tif'], 28: ['./PeelRiver/date0/patch_0_28.tif', './PeelRiver/date1/patch_1_28.tif', './PeelRiver/date2/patch_2_28.tif', './PeelRiver/date3/patch_3_28.tif', './PeelRiver/date4/patch_4_28.tif', './PeelRiver/date5/patch_5_28.tif', './PeelRiver/date6/patch_6_28.tif', './PeelRiver/date7/patch_7_28.tif', './PeelRiver/date8/patch_8_28.tif', './PeelRiver/date9/patch_9_28.tif', './PeelRiver/date10/patch_10_28.tif', './PeelRiver/date11/patch_11_28.tif', './PeelRiver/date12/patch_12_28.tif', './PeelRiver/gt/gt_13_28.tif'], 29: ['./PeelRiver/date0/patch_0_29.tif', './PeelRiver/date1/patch_1_29.tif', './PeelRiver/date2/patch_2_29.tif', './PeelRiver/date3/patch_3_29.tif', './PeelRiver/date4/patch_4_29.tif', './PeelRiver/date5/patch_5_29.tif', './PeelRiver/date6/patch_6_29.tif', './PeelRiver/date7/patch_7_29.tif', './PeelRiver/date8/patch_8_29.tif', './PeelRiver/date9/patch_9_29.tif', './PeelRiver/date10/patch_10_29.tif', './PeelRiver/date11/patch_11_29.tif', './PeelRiver/date12/patch_12_29.tif', './PeelRiver/gt/gt_13_29.tif'], 30: ['./PeelRiver/date0/patch_0_30.tif', './PeelRiver/date1/patch_1_30.tif', './PeelRiver/date2/patch_2_30.tif', './PeelRiver/date3/patch_3_30.tif', './PeelRiver/date4/patch_4_30.tif', './PeelRiver/date5/patch_5_30.tif', './PeelRiver/date6/patch_6_30.tif', './PeelRiver/date7/patch_7_30.tif', './PeelRiver/date8/patch_8_30.tif', './PeelRiver/date9/patch_9_30.tif', './PeelRiver/date10/patch_10_30.tif', './PeelRiver/date11/patch_11_30.tif', './PeelRiver/date12/patch_12_30.tif', './PeelRiver/gt/gt_13_30.tif'], 31: ['./PeelRiver/date0/patch_0_31.tif', './PeelRiver/date1/patch_1_31.tif', './PeelRiver/date2/patch_2_31.tif', './PeelRiver/date3/patch_3_31.tif', './PeelRiver/date4/patch_4_31.tif', './PeelRiver/date5/patch_5_31.tif', './PeelRiver/date6/patch_6_31.tif', './PeelRiver/date7/patch_7_31.tif', './PeelRiver/date8/patch_8_31.tif', './PeelRiver/date9/patch_9_31.tif', './PeelRiver/date10/patch_10_31.tif', './PeelRiver/date11/patch_11_31.tif', './PeelRiver/date12/patch_12_31.tif', './PeelRiver/gt/gt_13_31.tif'], 32: ['./PeelRiver/date0/patch_0_32.tif', './PeelRiver/date1/patch_1_32.tif', './PeelRiver/date2/patch_2_32.tif', './PeelRiver/date3/patch_3_32.tif', './PeelRiver/date4/patch_4_32.tif', './PeelRiver/date5/patch_5_32.tif', './PeelRiver/date6/patch_6_32.tif', './PeelRiver/date7/patch_7_32.tif', './PeelRiver/date8/patch_8_32.tif', './PeelRiver/date9/patch_9_32.tif', './PeelRiver/date10/patch_10_32.tif', './PeelRiver/date11/patch_11_32.tif', './PeelRiver/date12/patch_12_32.tif', './PeelRiver/gt/gt_13_32.tif'], 33: ['./PeelRiver/date0/patch_0_33.tif', './PeelRiver/date1/patch_1_33.tif', './PeelRiver/date2/patch_2_33.tif', './PeelRiver/date3/patch_3_33.tif', './PeelRiver/date4/patch_4_33.tif', './PeelRiver/date5/patch_5_33.tif', './PeelRiver/date6/patch_6_33.tif', './PeelRiver/date7/patch_7_33.tif', './PeelRiver/date8/patch_8_33.tif', './PeelRiver/date9/patch_9_33.tif', './PeelRiver/date10/patch_10_33.tif', './PeelRiver/date11/patch_11_33.tif', './PeelRiver/date12/patch_12_33.tif', './PeelRiver/gt/gt_13_33.tif'], 34: ['./PeelRiver/date0/patch_0_34.tif', './PeelRiver/date1/patch_1_34.tif', './PeelRiver/date2/patch_2_34.tif', './PeelRiver/date3/patch_3_34.tif', './PeelRiver/date4/patch_4_34.tif', './PeelRiver/date5/patch_5_34.tif', './PeelRiver/date6/patch_6_34.tif', './PeelRiver/date7/patch_7_34.tif', './PeelRiver/date8/patch_8_34.tif', './PeelRiver/date9/patch_9_34.tif', './PeelRiver/date10/patch_10_34.tif', './PeelRiver/date11/patch_11_34.tif', './PeelRiver/date12/patch_12_34.tif', './PeelRiver/gt/gt_13_34.tif'], 35: ['./PeelRiver/date0/patch_0_35.tif', './PeelRiver/date1/patch_1_35.tif', './PeelRiver/date2/patch_2_35.tif', './PeelRiver/date3/patch_3_35.tif', './PeelRiver/date4/patch_4_35.tif', './PeelRiver/date5/patch_5_35.tif', './PeelRiver/date6/patch_6_35.tif', './PeelRiver/date7/patch_7_35.tif', './PeelRiver/date8/patch_8_35.tif', './PeelRiver/date9/patch_9_35.tif', './PeelRiver/date10/patch_10_35.tif', './PeelRiver/date11/patch_11_35.tif', './PeelRiver/date12/patch_12_35.tif', './PeelRiver/gt/gt_13_35.tif'], 36: ['./PeelRiver/date0/patch_0_36.tif', './PeelRiver/date1/patch_1_36.tif', './PeelRiver/date2/patch_2_36.tif', './PeelRiver/date3/patch_3_36.tif', './PeelRiver/date4/patch_4_36.tif', './PeelRiver/date5/patch_5_36.tif', './PeelRiver/date6/patch_6_36.tif', './PeelRiver/date7/patch_7_36.tif', './PeelRiver/date8/patch_8_36.tif', './PeelRiver/date9/patch_9_36.tif', './PeelRiver/date10/patch_10_36.tif', './PeelRiver/date11/patch_11_36.tif', './PeelRiver/date12/patch_12_36.tif', './PeelRiver/gt/gt_13_36.tif'], 37: ['./PeelRiver/date0/patch_0_37.tif', './PeelRiver/date1/patch_1_37.tif', './PeelRiver/date2/patch_2_37.tif', './PeelRiver/date3/patch_3_37.tif', './PeelRiver/date4/patch_4_37.tif', './PeelRiver/date5/patch_5_37.tif', './PeelRiver/date6/patch_6_37.tif', './PeelRiver/date7/patch_7_37.tif', './PeelRiver/date8/patch_8_37.tif', './PeelRiver/date9/patch_9_37.tif', './PeelRiver/date10/patch_10_37.tif', './PeelRiver/date11/patch_11_37.tif', './PeelRiver/date12/patch_12_37.tif', './PeelRiver/gt/gt_13_37.tif'], 38: ['./PeelRiver/date0/patch_0_38.tif', './PeelRiver/date1/patch_1_38.tif', './PeelRiver/date2/patch_2_38.tif', './PeelRiver/date3/patch_3_38.tif', './PeelRiver/date4/patch_4_38.tif', './PeelRiver/date5/patch_5_38.tif', './PeelRiver/date6/patch_6_38.tif', './PeelRiver/date7/patch_7_38.tif', './PeelRiver/date8/patch_8_38.tif', './PeelRiver/date9/patch_9_38.tif', './PeelRiver/date10/patch_10_38.tif', './PeelRiver/date11/patch_11_38.tif', './PeelRiver/date12/patch_12_38.tif', './PeelRiver/gt/gt_13_38.tif'], 39: ['./PeelRiver/date0/patch_0_39.tif', './PeelRiver/date1/patch_1_39.tif', './PeelRiver/date2/patch_2_39.tif', './PeelRiver/date3/patch_3_39.tif', './PeelRiver/date4/patch_4_39.tif', './PeelRiver/date5/patch_5_39.tif', './PeelRiver/date6/patch_6_39.tif', './PeelRiver/date7/patch_7_39.tif', './PeelRiver/date8/patch_8_39.tif', './PeelRiver/date9/patch_9_39.tif', './PeelRiver/date10/patch_10_39.tif', './PeelRiver/date11/patch_11_39.tif', './PeelRiver/date12/patch_12_39.tif', './PeelRiver/gt/gt_13_39.tif'], 40: ['./PeelRiver/date0/patch_0_40.tif', './PeelRiver/date1/patch_1_40.tif', './PeelRiver/date2/patch_2_40.tif', './PeelRiver/date3/patch_3_40.tif', './PeelRiver/date4/patch_4_40.tif', './PeelRiver/date5/patch_5_40.tif', './PeelRiver/date6/patch_6_40.tif', './PeelRiver/date7/patch_7_40.tif', './PeelRiver/date8/patch_8_40.tif', './PeelRiver/date9/patch_9_40.tif', './PeelRiver/date10/patch_10_40.tif', './PeelRiver/date11/patch_11_40.tif', './PeelRiver/date12/patch_12_40.tif', './PeelRiver/gt/gt_13_40.tif'], 41: ['./PeelRiver/date0/patch_0_41.tif', './PeelRiver/date1/patch_1_41.tif', './PeelRiver/date2/patch_2_41.tif', './PeelRiver/date3/patch_3_41.tif', './PeelRiver/date4/patch_4_41.tif', './PeelRiver/date5/patch_5_41.tif', './PeelRiver/date6/patch_6_41.tif', './PeelRiver/date7/patch_7_41.tif', './PeelRiver/date8/patch_8_41.tif', './PeelRiver/date9/patch_9_41.tif', './PeelRiver/date10/patch_10_41.tif', './PeelRiver/date11/patch_11_41.tif', './PeelRiver/date12/patch_12_41.tif', './PeelRiver/gt/gt_13_41.tif'], 42: ['./PeelRiver/date0/patch_0_42.tif', './PeelRiver/date1/patch_1_42.tif', './PeelRiver/date2/patch_2_42.tif', './PeelRiver/date3/patch_3_42.tif', './PeelRiver/date4/patch_4_42.tif', './PeelRiver/date5/patch_5_42.tif', './PeelRiver/date6/patch_6_42.tif', './PeelRiver/date7/patch_7_42.tif', './PeelRiver/date8/patch_8_42.tif', './PeelRiver/date9/patch_9_42.tif', './PeelRiver/date10/patch_10_42.tif', './PeelRiver/date11/patch_11_42.tif', './PeelRiver/date12/patch_12_42.tif', './PeelRiver/gt/gt_13_42.tif'], 43: ['./PeelRiver/date0/patch_0_43.tif', './PeelRiver/date1/patch_1_43.tif', './PeelRiver/date2/patch_2_43.tif', './PeelRiver/date3/patch_3_43.tif', './PeelRiver/date4/patch_4_43.tif', './PeelRiver/date5/patch_5_43.tif', './PeelRiver/date6/patch_6_43.tif', './PeelRiver/date7/patch_7_43.tif', './PeelRiver/date8/patch_8_43.tif', './PeelRiver/date9/patch_9_43.tif', './PeelRiver/date10/patch_10_43.tif', './PeelRiver/date11/patch_11_43.tif', './PeelRiver/date12/patch_12_43.tif', './PeelRiver/gt/gt_13_43.tif'], 44: ['./PeelRiver/date0/patch_0_44.tif', './PeelRiver/date1/patch_1_44.tif', './PeelRiver/date2/patch_2_44.tif', './PeelRiver/date3/patch_3_44.tif', './PeelRiver/date4/patch_4_44.tif', './PeelRiver/date5/patch_5_44.tif', './PeelRiver/date6/patch_6_44.tif', './PeelRiver/date7/patch_7_44.tif', './PeelRiver/date8/patch_8_44.tif', './PeelRiver/date9/patch_9_44.tif', './PeelRiver/date10/patch_10_44.tif', './PeelRiver/date11/patch_11_44.tif', './PeelRiver/date12/patch_12_44.tif', './PeelRiver/gt/gt_13_44.tif'], 45: ['./PeelRiver/date0/patch_0_45.tif', './PeelRiver/date1/patch_1_45.tif', './PeelRiver/date2/patch_2_45.tif', './PeelRiver/date3/patch_3_45.tif', './PeelRiver/date4/patch_4_45.tif', './PeelRiver/date5/patch_5_45.tif', './PeelRiver/date6/patch_6_45.tif', './PeelRiver/date7/patch_7_45.tif', './PeelRiver/date8/patch_8_45.tif', './PeelRiver/date9/patch_9_45.tif', './PeelRiver/date10/patch_10_45.tif', './PeelRiver/date11/patch_11_45.tif', './PeelRiver/date12/patch_12_45.tif', './PeelRiver/gt/gt_13_45.tif'], 46: ['./PeelRiver/date0/patch_0_46.tif', './PeelRiver/date1/patch_1_46.tif', './PeelRiver/date2/patch_2_46.tif', './PeelRiver/date3/patch_3_46.tif', './PeelRiver/date4/patch_4_46.tif', './PeelRiver/date5/patch_5_46.tif', './PeelRiver/date6/patch_6_46.tif', './PeelRiver/date7/patch_7_46.tif', './PeelRiver/date8/patch_8_46.tif', './PeelRiver/date9/patch_9_46.tif', './PeelRiver/date10/patch_10_46.tif', './PeelRiver/date11/patch_11_46.tif', './PeelRiver/date12/patch_12_46.tif', './PeelRiver/gt/gt_13_46.tif'], 47: ['./PeelRiver/date0/patch_0_47.tif', './PeelRiver/date1/patch_1_47.tif', './PeelRiver/date2/patch_2_47.tif', './PeelRiver/date3/patch_3_47.tif', './PeelRiver/date4/patch_4_47.tif', './PeelRiver/date5/patch_5_47.tif', './PeelRiver/date6/patch_6_47.tif', './PeelRiver/date7/patch_7_47.tif', './PeelRiver/date8/patch_8_47.tif', './PeelRiver/date9/patch_9_47.tif', './PeelRiver/date10/patch_10_47.tif', './PeelRiver/date11/patch_11_47.tif', './PeelRiver/date12/patch_12_47.tif', './PeelRiver/gt/gt_13_47.tif'], 48: ['./PeelRiver/date0/patch_0_48.tif', './PeelRiver/date1/patch_1_48.tif', './PeelRiver/date2/patch_2_48.tif', './PeelRiver/date3/patch_3_48.tif', './PeelRiver/date4/patch_4_48.tif', './PeelRiver/date5/patch_5_48.tif', './PeelRiver/date6/patch_6_48.tif', './PeelRiver/date7/patch_7_48.tif', './PeelRiver/date8/patch_8_48.tif', './PeelRiver/date9/patch_9_48.tif', './PeelRiver/date10/patch_10_48.tif', './PeelRiver/date11/patch_11_48.tif', './PeelRiver/date12/patch_12_48.tif', './PeelRiver/gt/gt_13_48.tif'], 49: ['./PeelRiver/date0/patch_0_49.tif', './PeelRiver/date1/patch_1_49.tif', './PeelRiver/date2/patch_2_49.tif', './PeelRiver/date3/patch_3_49.tif', './PeelRiver/date4/patch_4_49.tif', './PeelRiver/date5/patch_5_49.tif', './PeelRiver/date6/patch_6_49.tif', './PeelRiver/date7/patch_7_49.tif', './PeelRiver/date8/patch_8_49.tif', './PeelRiver/date9/patch_9_49.tif', './PeelRiver/date10/patch_10_49.tif', './PeelRiver/date11/patch_11_49.tif', './PeelRiver/date12/patch_12_49.tif', './PeelRiver/gt/gt_13_49.tif'], 50: ['./PeelRiver/date0/patch_0_50.tif', './PeelRiver/date1/patch_1_50.tif', './PeelRiver/date2/patch_2_50.tif', './PeelRiver/date3/patch_3_50.tif', './PeelRiver/date4/patch_4_50.tif', './PeelRiver/date5/patch_5_50.tif', './PeelRiver/date6/patch_6_50.tif', './PeelRiver/date7/patch_7_50.tif', './PeelRiver/date8/patch_8_50.tif', './PeelRiver/date9/patch_9_50.tif', './PeelRiver/date10/patch_10_50.tif', './PeelRiver/date11/patch_11_50.tif', './PeelRiver/date12/patch_12_50.tif', './PeelRiver/gt/gt_13_50.tif'], 51: ['./PeelRiver/date0/patch_0_51.tif', './PeelRiver/date1/patch_1_51.tif', './PeelRiver/date2/patch_2_51.tif', './PeelRiver/date3/patch_3_51.tif', './PeelRiver/date4/patch_4_51.tif', './PeelRiver/date5/patch_5_51.tif', './PeelRiver/date6/patch_6_51.tif', './PeelRiver/date7/patch_7_51.tif', './PeelRiver/date8/patch_8_51.tif', './PeelRiver/date9/patch_9_51.tif', './PeelRiver/date10/patch_10_51.tif', './PeelRiver/date11/patch_11_51.tif', './PeelRiver/date12/patch_12_51.tif', './PeelRiver/gt/gt_13_51.tif'], 52: ['./PeelRiver/date0/patch_0_52.tif', './PeelRiver/date1/patch_1_52.tif', './PeelRiver/date2/patch_2_52.tif', './PeelRiver/date3/patch_3_52.tif', './PeelRiver/date4/patch_4_52.tif', './PeelRiver/date5/patch_5_52.tif', './PeelRiver/date6/patch_6_52.tif', './PeelRiver/date7/patch_7_52.tif', './PeelRiver/date8/patch_8_52.tif', './PeelRiver/date9/patch_9_52.tif', './PeelRiver/date10/patch_10_52.tif', './PeelRiver/date11/patch_11_52.tif', './PeelRiver/date12/patch_12_52.tif', './PeelRiver/gt/gt_13_52.tif'], 53: ['./PeelRiver/date0/patch_0_53.tif', './PeelRiver/date1/patch_1_53.tif', './PeelRiver/date2/patch_2_53.tif', './PeelRiver/date3/patch_3_53.tif', './PeelRiver/date4/patch_4_53.tif', './PeelRiver/date5/patch_5_53.tif', './PeelRiver/date6/patch_6_53.tif', './PeelRiver/date7/patch_7_53.tif', './PeelRiver/date8/patch_8_53.tif', './PeelRiver/date9/patch_9_53.tif', './PeelRiver/date10/patch_10_53.tif', './PeelRiver/date11/patch_11_53.tif', './PeelRiver/date12/patch_12_53.tif', './PeelRiver/gt/gt_13_53.tif'], 54: ['./PeelRiver/date0/patch_0_54.tif', './PeelRiver/date1/patch_1_54.tif', './PeelRiver/date2/patch_2_54.tif', './PeelRiver/date3/patch_3_54.tif', './PeelRiver/date4/patch_4_54.tif', './PeelRiver/date5/patch_5_54.tif', './PeelRiver/date6/patch_6_54.tif', './PeelRiver/date7/patch_7_54.tif', './PeelRiver/date8/patch_8_54.tif', './PeelRiver/date9/patch_9_54.tif', './PeelRiver/date10/patch_10_54.tif', './PeelRiver/date11/patch_11_54.tif', './PeelRiver/date12/patch_12_54.tif', './PeelRiver/gt/gt_13_54.tif'], 55: ['./PeelRiver/date0/patch_0_55.tif', './PeelRiver/date1/patch_1_55.tif', './PeelRiver/date2/patch_2_55.tif', './PeelRiver/date3/patch_3_55.tif', './PeelRiver/date4/patch_4_55.tif', './PeelRiver/date5/patch_5_55.tif', './PeelRiver/date6/patch_6_55.tif', './PeelRiver/date7/patch_7_55.tif', './PeelRiver/date8/patch_8_55.tif', './PeelRiver/date9/patch_9_55.tif', './PeelRiver/date10/patch_10_55.tif', './PeelRiver/date11/patch_11_55.tif', './PeelRiver/date12/patch_12_55.tif', './PeelRiver/gt/gt_13_55.tif'], 56: ['./PeelRiver/date0/patch_0_56.tif', './PeelRiver/date1/patch_1_56.tif', './PeelRiver/date2/patch_2_56.tif', './PeelRiver/date3/patch_3_56.tif', './PeelRiver/date4/patch_4_56.tif', './PeelRiver/date5/patch_5_56.tif', './PeelRiver/date6/patch_6_56.tif', './PeelRiver/date7/patch_7_56.tif', './PeelRiver/date8/patch_8_56.tif', './PeelRiver/date9/patch_9_56.tif', './PeelRiver/date10/patch_10_56.tif', './PeelRiver/date11/patch_11_56.tif', './PeelRiver/date12/patch_12_56.tif', './PeelRiver/gt/gt_13_56.tif'], 57: ['./PeelRiver/date0/patch_0_57.tif', './PeelRiver/date1/patch_1_57.tif', './PeelRiver/date2/patch_2_57.tif', './PeelRiver/date3/patch_3_57.tif', './PeelRiver/date4/patch_4_57.tif', './PeelRiver/date5/patch_5_57.tif', './PeelRiver/date6/patch_6_57.tif', './PeelRiver/date7/patch_7_57.tif', './PeelRiver/date8/patch_8_57.tif', './PeelRiver/date9/patch_9_57.tif', './PeelRiver/date10/patch_10_57.tif', './PeelRiver/date11/patch_11_57.tif', './PeelRiver/date12/patch_12_57.tif', './PeelRiver/gt/gt_13_57.tif'], 58: ['./PeelRiver/date0/patch_0_58.tif', './PeelRiver/date1/patch_1_58.tif', './PeelRiver/date2/patch_2_58.tif', './PeelRiver/date3/patch_3_58.tif', './PeelRiver/date4/patch_4_58.tif', './PeelRiver/date5/patch_5_58.tif', './PeelRiver/date6/patch_6_58.tif', './PeelRiver/date7/patch_7_58.tif', './PeelRiver/date8/patch_8_58.tif', './PeelRiver/date9/patch_9_58.tif', './PeelRiver/date10/patch_10_58.tif', './PeelRiver/date11/patch_11_58.tif', './PeelRiver/date12/patch_12_58.tif', './PeelRiver/gt/gt_13_58.tif'], 59: ['./PeelRiver/date0/patch_0_59.tif', './PeelRiver/date1/patch_1_59.tif', './PeelRiver/date2/patch_2_59.tif', './PeelRiver/date3/patch_3_59.tif', './PeelRiver/date4/patch_4_59.tif', './PeelRiver/date5/patch_5_59.tif', './PeelRiver/date6/patch_6_59.tif', './PeelRiver/date7/patch_7_59.tif', './PeelRiver/date8/patch_8_59.tif', './PeelRiver/date9/patch_9_59.tif', './PeelRiver/date10/patch_10_59.tif', './PeelRiver/date11/patch_11_59.tif', './PeelRiver/date12/patch_12_59.tif', './PeelRiver/gt/gt_13_59.tif'], 60: ['./PeelRiver/date0/patch_0_60.tif', './PeelRiver/date1/patch_1_60.tif', './PeelRiver/date2/patch_2_60.tif', './PeelRiver/date3/patch_3_60.tif', './PeelRiver/date4/patch_4_60.tif', './PeelRiver/date5/patch_5_60.tif', './PeelRiver/date6/patch_6_60.tif', './PeelRiver/date7/patch_7_60.tif', './PeelRiver/date8/patch_8_60.tif', './PeelRiver/date9/patch_9_60.tif', './PeelRiver/date10/patch_10_60.tif', './PeelRiver/date11/patch_11_60.tif', './PeelRiver/date12/patch_12_60.tif', './PeelRiver/gt/gt_13_60.tif'], 61: ['./PeelRiver/date0/patch_0_61.tif', './PeelRiver/date1/patch_1_61.tif', './PeelRiver/date2/patch_2_61.tif', './PeelRiver/date3/patch_3_61.tif', './PeelRiver/date4/patch_4_61.tif', './PeelRiver/date5/patch_5_61.tif', './PeelRiver/date6/patch_6_61.tif', './PeelRiver/date7/patch_7_61.tif', './PeelRiver/date8/patch_8_61.tif', './PeelRiver/date9/patch_9_61.tif', './PeelRiver/date10/patch_10_61.tif', './PeelRiver/date11/patch_11_61.tif', './PeelRiver/date12/patch_12_61.tif', './PeelRiver/gt/gt_13_61.tif'], 62: ['./PeelRiver/date0/patch_0_62.tif', './PeelRiver/date1/patch_1_62.tif', './PeelRiver/date2/patch_2_62.tif', './PeelRiver/date3/patch_3_62.tif', './PeelRiver/date4/patch_4_62.tif', './PeelRiver/date5/patch_5_62.tif', './PeelRiver/date6/patch_6_62.tif', './PeelRiver/date7/patch_7_62.tif', './PeelRiver/date8/patch_8_62.tif', './PeelRiver/date9/patch_9_62.tif', './PeelRiver/date10/patch_10_62.tif', './PeelRiver/date11/patch_11_62.tif', './PeelRiver/date12/patch_12_62.tif', './PeelRiver/gt/gt_13_62.tif'], 63: ['./PeelRiver/date0/patch_0_63.tif', './PeelRiver/date1/patch_1_63.tif', './PeelRiver/date2/patch_2_63.tif', './PeelRiver/date3/patch_3_63.tif', './PeelRiver/date4/patch_4_63.tif', './PeelRiver/date5/patch_5_63.tif', './PeelRiver/date6/patch_6_63.tif', './PeelRiver/date7/patch_7_63.tif', './PeelRiver/date8/patch_8_63.tif', './PeelRiver/date9/patch_9_63.tif', './PeelRiver/date10/patch_10_63.tif', './PeelRiver/date11/patch_11_63.tif', './PeelRiver/date12/patch_12_63.tif', './PeelRiver/gt/gt_13_63.tif'], 64: ['./PeelRiver/date0/patch_0_64.tif', './PeelRiver/date1/patch_1_64.tif', './PeelRiver/date2/patch_2_64.tif', './PeelRiver/date3/patch_3_64.tif', './PeelRiver/date4/patch_4_64.tif', './PeelRiver/date5/patch_5_64.tif', './PeelRiver/date6/patch_6_64.tif', './PeelRiver/date7/patch_7_64.tif', './PeelRiver/date8/patch_8_64.tif', './PeelRiver/date9/patch_9_64.tif', './PeelRiver/date10/patch_10_64.tif', './PeelRiver/date11/patch_11_64.tif', './PeelRiver/date12/patch_12_64.tif', './PeelRiver/gt/gt_13_64.tif'], 65: ['./PeelRiver/date0/patch_0_65.tif', './PeelRiver/date1/patch_1_65.tif', './PeelRiver/date2/patch_2_65.tif', './PeelRiver/date3/patch_3_65.tif', './PeelRiver/date4/patch_4_65.tif', './PeelRiver/date5/patch_5_65.tif', './PeelRiver/date6/patch_6_65.tif', './PeelRiver/date7/patch_7_65.tif', './PeelRiver/date8/patch_8_65.tif', './PeelRiver/date9/patch_9_65.tif', './PeelRiver/date10/patch_10_65.tif', './PeelRiver/date11/patch_11_65.tif', './PeelRiver/date12/patch_12_65.tif', './PeelRiver/gt/gt_13_65.tif'], 66: ['./PeelRiver/date0/patch_0_66.tif', './PeelRiver/date1/patch_1_66.tif', './PeelRiver/date2/patch_2_66.tif', './PeelRiver/date3/patch_3_66.tif', './PeelRiver/date4/patch_4_66.tif', './PeelRiver/date5/patch_5_66.tif', './PeelRiver/date6/patch_6_66.tif', './PeelRiver/date7/patch_7_66.tif', './PeelRiver/date8/patch_8_66.tif', './PeelRiver/date9/patch_9_66.tif', './PeelRiver/date10/patch_10_66.tif', './PeelRiver/date11/patch_11_66.tif', './PeelRiver/date12/patch_12_66.tif', './PeelRiver/gt/gt_13_66.tif'], 67: ['./PeelRiver/date0/patch_0_67.tif', './PeelRiver/date1/patch_1_67.tif', './PeelRiver/date2/patch_2_67.tif', './PeelRiver/date3/patch_3_67.tif', './PeelRiver/date4/patch_4_67.tif', './PeelRiver/date5/patch_5_67.tif', './PeelRiver/date6/patch_6_67.tif', './PeelRiver/date7/patch_7_67.tif', './PeelRiver/date8/patch_8_67.tif', './PeelRiver/date9/patch_9_67.tif', './PeelRiver/date10/patch_10_67.tif', './PeelRiver/date11/patch_11_67.tif', './PeelRiver/date12/patch_12_67.tif', './PeelRiver/gt/gt_13_67.tif'], 68: ['./PeelRiver/date0/patch_0_68.tif', './PeelRiver/date1/patch_1_68.tif', './PeelRiver/date2/patch_2_68.tif', './PeelRiver/date3/patch_3_68.tif', './PeelRiver/date4/patch_4_68.tif', './PeelRiver/date5/patch_5_68.tif', './PeelRiver/date6/patch_6_68.tif', './PeelRiver/date7/patch_7_68.tif', './PeelRiver/date8/patch_8_68.tif', './PeelRiver/date9/patch_9_68.tif', './PeelRiver/date10/patch_10_68.tif', './PeelRiver/date11/patch_11_68.tif', './PeelRiver/date12/patch_12_68.tif', './PeelRiver/gt/gt_13_68.tif'], 69: ['./PeelRiver/date0/patch_0_69.tif', './PeelRiver/date1/patch_1_69.tif', './PeelRiver/date2/patch_2_69.tif', './PeelRiver/date3/patch_3_69.tif', './PeelRiver/date4/patch_4_69.tif', './PeelRiver/date5/patch_5_69.tif', './PeelRiver/date6/patch_6_69.tif', './PeelRiver/date7/patch_7_69.tif', './PeelRiver/date8/patch_8_69.tif', './PeelRiver/date9/patch_9_69.tif', './PeelRiver/date10/patch_10_69.tif', './PeelRiver/date11/patch_11_69.tif', './PeelRiver/date12/patch_12_69.tif', './PeelRiver/gt/gt_13_69.tif'], 70: ['./PeelRiver/date0/patch_0_70.tif', './PeelRiver/date1/patch_1_70.tif', './PeelRiver/date2/patch_2_70.tif', './PeelRiver/date3/patch_3_70.tif', './PeelRiver/date4/patch_4_70.tif', './PeelRiver/date5/patch_5_70.tif', './PeelRiver/date6/patch_6_70.tif', './PeelRiver/date7/patch_7_70.tif', './PeelRiver/date8/patch_8_70.tif', './PeelRiver/date9/patch_9_70.tif', './PeelRiver/date10/patch_10_70.tif', './PeelRiver/date11/patch_11_70.tif', './PeelRiver/date12/patch_12_70.tif', './PeelRiver/gt/gt_13_70.tif'], 71: ['./PeelRiver/date0/patch_0_71.tif', './PeelRiver/date1/patch_1_71.tif', './PeelRiver/date2/patch_2_71.tif', './PeelRiver/date3/patch_3_71.tif', './PeelRiver/date4/patch_4_71.tif', './PeelRiver/date5/patch_5_71.tif', './PeelRiver/date6/patch_6_71.tif', './PeelRiver/date7/patch_7_71.tif', './PeelRiver/date8/patch_8_71.tif', './PeelRiver/date9/patch_9_71.tif', './PeelRiver/date10/patch_10_71.tif', './PeelRiver/date11/patch_11_71.tif', './PeelRiver/date12/patch_12_71.tif', './PeelRiver/gt/gt_13_71.tif'], 72: ['./PeelRiver/date0/patch_0_72.tif', './PeelRiver/date1/patch_1_72.tif', './PeelRiver/date2/patch_2_72.tif', './PeelRiver/date3/patch_3_72.tif', './PeelRiver/date4/patch_4_72.tif', './PeelRiver/date5/patch_5_72.tif', './PeelRiver/date6/patch_6_72.tif', './PeelRiver/date7/patch_7_72.tif', './PeelRiver/date8/patch_8_72.tif', './PeelRiver/date9/patch_9_72.tif', './PeelRiver/date10/patch_10_72.tif', './PeelRiver/date11/patch_11_72.tif', './PeelRiver/date12/patch_12_72.tif', './PeelRiver/gt/gt_13_72.tif'], 73: ['./PeelRiver/date0/patch_0_73.tif', './PeelRiver/date1/patch_1_73.tif', './PeelRiver/date2/patch_2_73.tif', './PeelRiver/date3/patch_3_73.tif', './PeelRiver/date4/patch_4_73.tif', './PeelRiver/date5/patch_5_73.tif', './PeelRiver/date6/patch_6_73.tif', './PeelRiver/date7/patch_7_73.tif', './PeelRiver/date8/patch_8_73.tif', './PeelRiver/date9/patch_9_73.tif', './PeelRiver/date10/patch_10_73.tif', './PeelRiver/date11/patch_11_73.tif', './PeelRiver/date12/patch_12_73.tif', './PeelRiver/gt/gt_13_73.tif'], 74: ['./PeelRiver/date0/patch_0_74.tif', './PeelRiver/date1/patch_1_74.tif', './PeelRiver/date2/patch_2_74.tif', './PeelRiver/date3/patch_3_74.tif', './PeelRiver/date4/patch_4_74.tif', './PeelRiver/date5/patch_5_74.tif', './PeelRiver/date6/patch_6_74.tif', './PeelRiver/date7/patch_7_74.tif', './PeelRiver/date8/patch_8_74.tif', './PeelRiver/date9/patch_9_74.tif', './PeelRiver/date10/patch_10_74.tif', './PeelRiver/date11/patch_11_74.tif', './PeelRiver/date12/patch_12_74.tif', './PeelRiver/gt/gt_13_74.tif'], 75: ['./PeelRiver/date0/patch_0_75.tif', './PeelRiver/date1/patch_1_75.tif', './PeelRiver/date2/patch_2_75.tif', './PeelRiver/date3/patch_3_75.tif', './PeelRiver/date4/patch_4_75.tif', './PeelRiver/date5/patch_5_75.tif', './PeelRiver/date6/patch_6_75.tif', './PeelRiver/date7/patch_7_75.tif', './PeelRiver/date8/patch_8_75.tif', './PeelRiver/date9/patch_9_75.tif', './PeelRiver/date10/patch_10_75.tif', './PeelRiver/date11/patch_11_75.tif', './PeelRiver/date12/patch_12_75.tif', './PeelRiver/gt/gt_13_75.tif'], 76: ['./PeelRiver/date0/patch_0_76.tif', './PeelRiver/date1/patch_1_76.tif', './PeelRiver/date2/patch_2_76.tif', './PeelRiver/date3/patch_3_76.tif', './PeelRiver/date4/patch_4_76.tif', './PeelRiver/date5/patch_5_76.tif', './PeelRiver/date6/patch_6_76.tif', './PeelRiver/date7/patch_7_76.tif', './PeelRiver/date8/patch_8_76.tif', './PeelRiver/date9/patch_9_76.tif', './PeelRiver/date10/patch_10_76.tif', './PeelRiver/date11/patch_11_76.tif', './PeelRiver/date12/patch_12_76.tif', './PeelRiver/gt/gt_13_76.tif'], 77: ['./PeelRiver/date0/patch_0_77.tif', './PeelRiver/date1/patch_1_77.tif', './PeelRiver/date2/patch_2_77.tif', './PeelRiver/date3/patch_3_77.tif', './PeelRiver/date4/patch_4_77.tif', './PeelRiver/date5/patch_5_77.tif', './PeelRiver/date6/patch_6_77.tif', './PeelRiver/date7/patch_7_77.tif', './PeelRiver/date8/patch_8_77.tif', './PeelRiver/date9/patch_9_77.tif', './PeelRiver/date10/patch_10_77.tif', './PeelRiver/date11/patch_11_77.tif', './PeelRiver/date12/patch_12_77.tif', './PeelRiver/gt/gt_13_77.tif'], 78: ['./PeelRiver/date0/patch_0_78.tif', './PeelRiver/date1/patch_1_78.tif', './PeelRiver/date2/patch_2_78.tif', './PeelRiver/date3/patch_3_78.tif', './PeelRiver/date4/patch_4_78.tif', './PeelRiver/date5/patch_5_78.tif', './PeelRiver/date6/patch_6_78.tif', './PeelRiver/date7/patch_7_78.tif', './PeelRiver/date8/patch_8_78.tif', './PeelRiver/date9/patch_9_78.tif', './PeelRiver/date10/patch_10_78.tif', './PeelRiver/date11/patch_11_78.tif', './PeelRiver/date12/patch_12_78.tif', './PeelRiver/gt/gt_13_78.tif'], 79: ['./PeelRiver/date0/patch_0_79.tif', './PeelRiver/date1/patch_1_79.tif', './PeelRiver/date2/patch_2_79.tif', './PeelRiver/date3/patch_3_79.tif', './PeelRiver/date4/patch_4_79.tif', './PeelRiver/date5/patch_5_79.tif', './PeelRiver/date6/patch_6_79.tif', './PeelRiver/date7/patch_7_79.tif', './PeelRiver/date8/patch_8_79.tif', './PeelRiver/date9/patch_9_79.tif', './PeelRiver/date10/patch_10_79.tif', './PeelRiver/date11/patch_11_79.tif', './PeelRiver/date12/patch_12_79.tif', './PeelRiver/gt/gt_13_79.tif'], 80: ['./PeelRiver/date0/patch_0_80.tif', './PeelRiver/date1/patch_1_80.tif', './PeelRiver/date2/patch_2_80.tif', './PeelRiver/date3/patch_3_80.tif', './PeelRiver/date4/patch_4_80.tif', './PeelRiver/date5/patch_5_80.tif', './PeelRiver/date6/patch_6_80.tif', './PeelRiver/date7/patch_7_80.tif', './PeelRiver/date8/patch_8_80.tif', './PeelRiver/date9/patch_9_80.tif', './PeelRiver/date10/patch_10_80.tif', './PeelRiver/date11/patch_11_80.tif', './PeelRiver/date12/patch_12_80.tif', './PeelRiver/gt/gt_13_80.tif'], 81: ['./PeelRiver/date0/patch_0_81.tif', './PeelRiver/date1/patch_1_81.tif', './PeelRiver/date2/patch_2_81.tif', './PeelRiver/date3/patch_3_81.tif', './PeelRiver/date4/patch_4_81.tif', './PeelRiver/date5/patch_5_81.tif', './PeelRiver/date6/patch_6_81.tif', './PeelRiver/date7/patch_7_81.tif', './PeelRiver/date8/patch_8_81.tif', './PeelRiver/date9/patch_9_81.tif', './PeelRiver/date10/patch_10_81.tif', './PeelRiver/date11/patch_11_81.tif', './PeelRiver/date12/patch_12_81.tif', './PeelRiver/gt/gt_13_81.tif'], 82: ['./PeelRiver/date0/patch_0_82.tif', './PeelRiver/date1/patch_1_82.tif', './PeelRiver/date2/patch_2_82.tif', './PeelRiver/date3/patch_3_82.tif', './PeelRiver/date4/patch_4_82.tif', './PeelRiver/date5/patch_5_82.tif', './PeelRiver/date6/patch_6_82.tif', './PeelRiver/date7/patch_7_82.tif', './PeelRiver/date8/patch_8_82.tif', './PeelRiver/date9/patch_9_82.tif', './PeelRiver/date10/patch_10_82.tif', './PeelRiver/date11/patch_11_82.tif', './PeelRiver/date12/patch_12_82.tif', './PeelRiver/gt/gt_13_82.tif'], 83: ['./PeelRiver/date0/patch_0_83.tif', './PeelRiver/date1/patch_1_83.tif', './PeelRiver/date2/patch_2_83.tif', './PeelRiver/date3/patch_3_83.tif', './PeelRiver/date4/patch_4_83.tif', './PeelRiver/date5/patch_5_83.tif', './PeelRiver/date6/patch_6_83.tif', './PeelRiver/date7/patch_7_83.tif', './PeelRiver/date8/patch_8_83.tif', './PeelRiver/date9/patch_9_83.tif', './PeelRiver/date10/patch_10_83.tif', './PeelRiver/date11/patch_11_83.tif', './PeelRiver/date12/patch_12_83.tif', './PeelRiver/gt/gt_13_83.tif'], 84: ['./PeelRiver/date0/patch_0_84.tif', './PeelRiver/date1/patch_1_84.tif', './PeelRiver/date2/patch_2_84.tif', './PeelRiver/date3/patch_3_84.tif', './PeelRiver/date4/patch_4_84.tif', './PeelRiver/date5/patch_5_84.tif', './PeelRiver/date6/patch_6_84.tif', './PeelRiver/date7/patch_7_84.tif', './PeelRiver/date8/patch_8_84.tif', './PeelRiver/date9/patch_9_84.tif', './PeelRiver/date10/patch_10_84.tif', './PeelRiver/date11/patch_11_84.tif', './PeelRiver/date12/patch_12_84.tif', './PeelRiver/gt/gt_13_84.tif'], 85: ['./PeelRiver/date0/patch_0_85.tif', './PeelRiver/date1/patch_1_85.tif', './PeelRiver/date2/patch_2_85.tif', './PeelRiver/date3/patch_3_85.tif', './PeelRiver/date4/patch_4_85.tif', './PeelRiver/date5/patch_5_85.tif', './PeelRiver/date6/patch_6_85.tif', './PeelRiver/date7/patch_7_85.tif', './PeelRiver/date8/patch_8_85.tif', './PeelRiver/date9/patch_9_85.tif', './PeelRiver/date10/patch_10_85.tif', './PeelRiver/date11/patch_11_85.tif', './PeelRiver/date12/patch_12_85.tif', './PeelRiver/gt/gt_13_85.tif'], 86: ['./PeelRiver/date0/patch_0_86.tif', './PeelRiver/date1/patch_1_86.tif', './PeelRiver/date2/patch_2_86.tif', './PeelRiver/date3/patch_3_86.tif', './PeelRiver/date4/patch_4_86.tif', './PeelRiver/date5/patch_5_86.tif', './PeelRiver/date6/patch_6_86.tif', './PeelRiver/date7/patch_7_86.tif', './PeelRiver/date8/patch_8_86.tif', './PeelRiver/date9/patch_9_86.tif', './PeelRiver/date10/patch_10_86.tif', './PeelRiver/date11/patch_11_86.tif', './PeelRiver/date12/patch_12_86.tif', './PeelRiver/gt/gt_13_86.tif'], 87: ['./PeelRiver/date0/patch_0_87.tif', './PeelRiver/date1/patch_1_87.tif', './PeelRiver/date2/patch_2_87.tif', './PeelRiver/date3/patch_3_87.tif', './PeelRiver/date4/patch_4_87.tif', './PeelRiver/date5/patch_5_87.tif', './PeelRiver/date6/patch_6_87.tif', './PeelRiver/date7/patch_7_87.tif', './PeelRiver/date8/patch_8_87.tif', './PeelRiver/date9/patch_9_87.tif', './PeelRiver/date10/patch_10_87.tif', './PeelRiver/date11/patch_11_87.tif', './PeelRiver/date12/patch_12_87.tif', './PeelRiver/gt/gt_13_87.tif'], 88: ['./PeelRiver/date0/patch_0_88.tif', './PeelRiver/date1/patch_1_88.tif', './PeelRiver/date2/patch_2_88.tif', './PeelRiver/date3/patch_3_88.tif', './PeelRiver/date4/patch_4_88.tif', './PeelRiver/date5/patch_5_88.tif', './PeelRiver/date6/patch_6_88.tif', './PeelRiver/date7/patch_7_88.tif', './PeelRiver/date8/patch_8_88.tif', './PeelRiver/date9/patch_9_88.tif', './PeelRiver/date10/patch_10_88.tif', './PeelRiver/date11/patch_11_88.tif', './PeelRiver/date12/patch_12_88.tif', './PeelRiver/gt/gt_13_88.tif'], 89: ['./PeelRiver/date0/patch_0_89.tif', './PeelRiver/date1/patch_1_89.tif', './PeelRiver/date2/patch_2_89.tif', './PeelRiver/date3/patch_3_89.tif', './PeelRiver/date4/patch_4_89.tif', './PeelRiver/date5/patch_5_89.tif', './PeelRiver/date6/patch_6_89.tif', './PeelRiver/date7/patch_7_89.tif', './PeelRiver/date8/patch_8_89.tif', './PeelRiver/date9/patch_9_89.tif', './PeelRiver/date10/patch_10_89.tif', './PeelRiver/date11/patch_11_89.tif', './PeelRiver/date12/patch_12_89.tif', './PeelRiver/gt/gt_13_89.tif'], 90: ['./PeelRiver/date0/patch_0_90.tif', './PeelRiver/date1/patch_1_90.tif', './PeelRiver/date2/patch_2_90.tif', './PeelRiver/date3/patch_3_90.tif', './PeelRiver/date4/patch_4_90.tif', './PeelRiver/date5/patch_5_90.tif', './PeelRiver/date6/patch_6_90.tif', './PeelRiver/date7/patch_7_90.tif', './PeelRiver/date8/patch_8_90.tif', './PeelRiver/date9/patch_9_90.tif', './PeelRiver/date10/patch_10_90.tif', './PeelRiver/date11/patch_11_90.tif', './PeelRiver/date12/patch_12_90.tif', './PeelRiver/gt/gt_13_90.tif'], 91: ['./PeelRiver/date0/patch_0_91.tif', './PeelRiver/date1/patch_1_91.tif', './PeelRiver/date2/patch_2_91.tif', './PeelRiver/date3/patch_3_91.tif', './PeelRiver/date4/patch_4_91.tif', './PeelRiver/date5/patch_5_91.tif', './PeelRiver/date6/patch_6_91.tif', './PeelRiver/date7/patch_7_91.tif', './PeelRiver/date8/patch_8_91.tif', './PeelRiver/date9/patch_9_91.tif', './PeelRiver/date10/patch_10_91.tif', './PeelRiver/date11/patch_11_91.tif', './PeelRiver/date12/patch_12_91.tif', './PeelRiver/gt/gt_13_91.tif'], 92: ['./PeelRiver/date0/patch_0_92.tif', './PeelRiver/date1/patch_1_92.tif', './PeelRiver/date2/patch_2_92.tif', './PeelRiver/date3/patch_3_92.tif', './PeelRiver/date4/patch_4_92.tif', './PeelRiver/date5/patch_5_92.tif', './PeelRiver/date6/patch_6_92.tif', './PeelRiver/date7/patch_7_92.tif', './PeelRiver/date8/patch_8_92.tif', './PeelRiver/date9/patch_9_92.tif', './PeelRiver/date10/patch_10_92.tif', './PeelRiver/date11/patch_11_92.tif', './PeelRiver/date12/patch_12_92.tif', './PeelRiver/gt/gt_13_92.tif'], 93: ['./PeelRiver/date0/patch_0_93.tif', './PeelRiver/date1/patch_1_93.tif', './PeelRiver/date2/patch_2_93.tif', './PeelRiver/date3/patch_3_93.tif', './PeelRiver/date4/patch_4_93.tif', './PeelRiver/date5/patch_5_93.tif', './PeelRiver/date6/patch_6_93.tif', './PeelRiver/date7/patch_7_93.tif', './PeelRiver/date8/patch_8_93.tif', './PeelRiver/date9/patch_9_93.tif', './PeelRiver/date10/patch_10_93.tif', './PeelRiver/date11/patch_11_93.tif', './PeelRiver/date12/patch_12_93.tif', './PeelRiver/gt/gt_13_93.tif'], 94: ['./PeelRiver/date0/patch_0_94.tif', './PeelRiver/date1/patch_1_94.tif', './PeelRiver/date2/patch_2_94.tif', './PeelRiver/date3/patch_3_94.tif', './PeelRiver/date4/patch_4_94.tif', './PeelRiver/date5/patch_5_94.tif', './PeelRiver/date6/patch_6_94.tif', './PeelRiver/date7/patch_7_94.tif', './PeelRiver/date8/patch_8_94.tif', './PeelRiver/date9/patch_9_94.tif', './PeelRiver/date10/patch_10_94.tif', './PeelRiver/date11/patch_11_94.tif', './PeelRiver/date12/patch_12_94.tif', './PeelRiver/gt/gt_13_94.tif'], 95: ['./PeelRiver/date0/patch_0_95.tif', './PeelRiver/date1/patch_1_95.tif', './PeelRiver/date2/patch_2_95.tif', './PeelRiver/date3/patch_3_95.tif', './PeelRiver/date4/patch_4_95.tif', './PeelRiver/date5/patch_5_95.tif', './PeelRiver/date6/patch_6_95.tif', './PeelRiver/date7/patch_7_95.tif', './PeelRiver/date8/patch_8_95.tif', './PeelRiver/date9/patch_9_95.tif', './PeelRiver/date10/patch_10_95.tif', './PeelRiver/date11/patch_11_95.tif', './PeelRiver/date12/patch_12_95.tif', './PeelRiver/gt/gt_13_95.tif'], 96: ['./PeelRiver/date0/patch_0_96.tif', './PeelRiver/date1/patch_1_96.tif', './PeelRiver/date2/patch_2_96.tif', './PeelRiver/date3/patch_3_96.tif', './PeelRiver/date4/patch_4_96.tif', './PeelRiver/date5/patch_5_96.tif', './PeelRiver/date6/patch_6_96.tif', './PeelRiver/date7/patch_7_96.tif', './PeelRiver/date8/patch_8_96.tif', './PeelRiver/date9/patch_9_96.tif', './PeelRiver/date10/patch_10_96.tif', './PeelRiver/date11/patch_11_96.tif', './PeelRiver/date12/patch_12_96.tif', './PeelRiver/gt/gt_13_96.tif'], 97: ['./PeelRiver/date0/patch_0_97.tif', './PeelRiver/date1/patch_1_97.tif', './PeelRiver/date2/patch_2_97.tif', './PeelRiver/date3/patch_3_97.tif', './PeelRiver/date4/patch_4_97.tif', './PeelRiver/date5/patch_5_97.tif', './PeelRiver/date6/patch_6_97.tif', './PeelRiver/date7/patch_7_97.tif', './PeelRiver/date8/patch_8_97.tif', './PeelRiver/date9/patch_9_97.tif', './PeelRiver/date10/patch_10_97.tif', './PeelRiver/date11/patch_11_97.tif', './PeelRiver/date12/patch_12_97.tif', './PeelRiver/gt/gt_13_97.tif'], 98: ['./PeelRiver/date0/patch_0_98.tif', './PeelRiver/date1/patch_1_98.tif', './PeelRiver/date2/patch_2_98.tif', './PeelRiver/date3/patch_3_98.tif', './PeelRiver/date4/patch_4_98.tif', './PeelRiver/date5/patch_5_98.tif', './PeelRiver/date6/patch_6_98.tif', './PeelRiver/date7/patch_7_98.tif', './PeelRiver/date8/patch_8_98.tif', './PeelRiver/date9/patch_9_98.tif', './PeelRiver/date10/patch_10_98.tif', './PeelRiver/date11/patch_11_98.tif', './PeelRiver/date12/patch_12_98.tif', './PeelRiver/gt/gt_13_98.tif'], 99: ['./PeelRiver/date0/patch_0_99.tif', './PeelRiver/date1/patch_1_99.tif', './PeelRiver/date2/patch_2_99.tif', './PeelRiver/date3/patch_3_99.tif', './PeelRiver/date4/patch_4_99.tif', './PeelRiver/date5/patch_5_99.tif', './PeelRiver/date6/patch_6_99.tif', './PeelRiver/date7/patch_7_99.tif', './PeelRiver/date8/patch_8_99.tif', './PeelRiver/date9/patch_9_99.tif', './PeelRiver/date10/patch_10_99.tif', './PeelRiver/date11/patch_11_99.tif', './PeelRiver/date12/patch_12_99.tif', './PeelRiver/gt/gt_13_99.tif']})\n"
     ]
    }
   ],
   "source": [
    "from collections import defaultdict\n",
    "grouped_paths = defaultdict(list)\n",
    "\n",
    "# Parcourir le dictionnaire all_data\n",
    "for date, patches in all_data.items():\n",
    "    for patch_index, patch_info in enumerate(patches, start=1):\n",
    "        # Récupérer le chemin d'accès au patch\n",
    "        patch_path = patch_info['patch_path']\n",
    "        patch_path = patch_path.replace('\\\\', '/')\n",
    "        # Ajouter le chemin d'accès au patch dans le groupe correspondant à son index de patch\n",
    "        grouped_paths[patch_index].append(patch_path)\n",
    "\n",
    "print(grouped_paths)"
   ]
  },
  {
   "cell_type": "markdown",
   "metadata": {},
   "source": [
    "**Creating batches :**  when you train a deep learning model, you don't usually run each sample individually through the neural network. Instead, you divide them into small groups called batches and run each batch through the network at the same time.\n",
    "We choose first to create 99 batch, each batch containing 13 patch of the same place at different time.  \n",
    "\n",
    "MA BE I CAN IMPLEMENT THIS IN THE DATASET.py FILE"
   ]
  },
  {
   "cell_type": "code",
   "execution_count": 8,
   "metadata": {},
   "outputs": [],
   "source": [
    "# Créer un dictionnaire pour stocker les chemins d'accès aux images et aux groundtruths\n",
    "images_paths_dict = defaultdict(list)\n",
    "groundtruths_paths_dict = defaultdict(list)\n",
    "\n",
    "# Parcourir le dictionnaire patch_paths_dict\n",
    "for index, paths in grouped_paths.items():\n",
    "    for path in paths:\n",
    "        if \"gt\" in path:\n",
    "            for _ in range(13):\n",
    "                groundtruths_paths_dict[index].append(path)\n",
    "        else:\n",
    "            images_paths_dict[index].append(path)\n"
   ]
  },
  {
   "cell_type": "code",
   "execution_count": 9,
   "metadata": {},
   "outputs": [],
   "source": [
    "dataset = PatchesDataset(images_paths_dict, groundtruths_paths_dict, \"PeelRiver\")"
   ]
  },
  {
   "cell_type": "code",
   "execution_count": 15,
   "metadata": {},
   "outputs": [
    {
     "name": "stdout",
     "output_type": "stream",
     "text": [
      "From initial model:\n",
      "Epoch: 0/15 Train_loss: -3.03322, Train_F1: 0.00000, Train_Accuracy: 0.053899262717407, Val_loss: -2.72663, Val_F1: 0.00000, Val_Accuracy: 0.04187\n"
     ]
    },
    {
     "ename": "KeyboardInterrupt",
     "evalue": "",
     "output_type": "error",
     "traceback": [
      "\u001b[1;31m---------------------------------------------------------------------------\u001b[0m",
      "\u001b[1;31mKeyboardInterrupt\u001b[0m                         Traceback (most recent call last)",
      "\u001b[1;32m<ipython-input-15-0ad2630e7cea>\u001b[0m in \u001b[0;36m<module>\u001b[1;34m\u001b[0m\n\u001b[0;32m      3\u001b[0m \u001b[0mn_epochs\u001b[0m \u001b[1;33m=\u001b[0m \u001b[1;36m15\u001b[0m\u001b[1;33m\u001b[0m\u001b[1;33m\u001b[0m\u001b[0m\n\u001b[0;32m      4\u001b[0m \u001b[0mno_augmentation_model\u001b[0m \u001b[1;33m=\u001b[0m \u001b[0mModel\u001b[0m\u001b[1;33m(\u001b[0m\u001b[0mmodelname1\u001b[0m\u001b[1;33m,\u001b[0m \u001b[0mlr\u001b[0m \u001b[1;33m=\u001b[0m \u001b[0mlr\u001b[0m\u001b[1;33m)\u001b[0m\u001b[1;33m\u001b[0m\u001b[1;33m\u001b[0m\u001b[0m\n\u001b[1;32m----> 5\u001b[1;33m \u001b[0mno_augmentation_model\u001b[0m\u001b[1;33m.\u001b[0m\u001b[0mtrain\u001b[0m\u001b[1;33m(\u001b[0m\u001b[0mdataset\u001b[0m\u001b[1;33m,\u001b[0m \u001b[0mnum_epochs\u001b[0m\u001b[1;33m=\u001b[0m \u001b[0mn_epochs\u001b[0m\u001b[1;33m)\u001b[0m\u001b[1;33m\u001b[0m\u001b[1;33m\u001b[0m\u001b[0m\n\u001b[0m\u001b[0;32m      6\u001b[0m \u001b[0mno_augmentation_model\u001b[0m\u001b[1;33m.\u001b[0m\u001b[0mplot_history\u001b[0m\u001b[1;33m(\u001b[0m\u001b[1;33m)\u001b[0m\u001b[1;33m\u001b[0m\u001b[1;33m\u001b[0m\u001b[0m\n",
      "\u001b[1;32mc:\\Users\\filou\\design project\\RSteam_Scripts\\4_Python\\Deep_Learning\\unet_whole_model.py\u001b[0m in \u001b[0;36mtrain\u001b[1;34m(self, dataset, num_epochs, start_epoch)\u001b[0m\n\u001b[0;32m    257\u001b[0m \u001b[1;33m\u001b[0m\u001b[0m\n\u001b[0;32m    258\u001b[0m         \u001b[1;32mfor\u001b[0m \u001b[0mepoch\u001b[0m \u001b[1;32min\u001b[0m \u001b[0mrange\u001b[0m\u001b[1;33m(\u001b[0m\u001b[0mstart_epoch\u001b[0m\u001b[1;33m-\u001b[0m\u001b[1;36m1\u001b[0m\u001b[1;33m,\u001b[0m\u001b[0mnum_epochs\u001b[0m\u001b[1;33m)\u001b[0m\u001b[1;33m:\u001b[0m\u001b[1;33m\u001b[0m\u001b[1;33m\u001b[0m\u001b[0m\n\u001b[1;32m--> 259\u001b[1;33m             \u001b[0mt\u001b[0m\u001b[1;33m,\u001b[0m \u001b[0mf\u001b[0m\u001b[1;33m,\u001b[0m \u001b[0ma\u001b[0m \u001b[1;33m=\u001b[0m \u001b[0mself\u001b[0m\u001b[1;33m.\u001b[0m\u001b[0mtrain_epoch\u001b[0m\u001b[1;33m(\u001b[0m\u001b[0mdata_train\u001b[0m\u001b[1;33m,\u001b[0m \u001b[0mtarget_train\u001b[0m\u001b[1;33m)\u001b[0m\u001b[1;33m\u001b[0m\u001b[1;33m\u001b[0m\u001b[0m\n\u001b[0m\u001b[0;32m    260\u001b[0m             \u001b[0mself\u001b[0m\u001b[1;33m.\u001b[0m\u001b[0madd_history\u001b[0m\u001b[1;33m(\u001b[0m\u001b[0mt\u001b[0m\u001b[1;33m,\u001b[0m \u001b[0mf\u001b[0m\u001b[1;33m,\u001b[0m \u001b[0ma\u001b[0m\u001b[1;33m,\u001b[0m \u001b[1;34m\"Train\"\u001b[0m\u001b[1;33m)\u001b[0m\u001b[1;33m\u001b[0m\u001b[1;33m\u001b[0m\u001b[0m\n\u001b[0;32m    261\u001b[0m             \u001b[0mt\u001b[0m\u001b[1;33m,\u001b[0m \u001b[0mf\u001b[0m\u001b[1;33m,\u001b[0m \u001b[0ma\u001b[0m \u001b[1;33m=\u001b[0m \u001b[0mself\u001b[0m\u001b[1;33m.\u001b[0m\u001b[0mvalidation_epoch\u001b[0m\u001b[1;33m(\u001b[0m\u001b[0mdata_val\u001b[0m\u001b[1;33m,\u001b[0m \u001b[0mtarget_val\u001b[0m\u001b[1;33m)\u001b[0m\u001b[1;33m\u001b[0m\u001b[1;33m\u001b[0m\u001b[0m\n",
      "\u001b[1;32mc:\\Users\\filou\\design project\\RSteam_Scripts\\4_Python\\Deep_Learning\\unet_whole_model.py\u001b[0m in \u001b[0;36mtrain_epoch\u001b[1;34m(self, data_list, target_list)\u001b[0m\n\u001b[0;32m    111\u001b[0m \u001b[1;33m\u001b[0m\u001b[0m\n\u001b[0;32m    112\u001b[0m                 \u001b[1;31m#predict + calculate loss\u001b[0m\u001b[1;33m\u001b[0m\u001b[1;33m\u001b[0m\u001b[0m\n\u001b[1;32m--> 113\u001b[1;33m                 \u001b[0mloss\u001b[0m\u001b[1;33m,\u001b[0m \u001b[0mtrain_pred\u001b[0m \u001b[1;33m=\u001b[0m \u001b[0mself\u001b[0m\u001b[1;33m.\u001b[0m\u001b[0mtraining_step\u001b[0m\u001b[1;33m(\u001b[0m\u001b[0mdata\u001b[0m\u001b[1;33m,\u001b[0m \u001b[0mtarget\u001b[0m\u001b[1;33m)\u001b[0m\u001b[1;33m\u001b[0m\u001b[1;33m\u001b[0m\u001b[0m\n\u001b[0m\u001b[0;32m    114\u001b[0m                 \u001b[0mtrain_losses\u001b[0m\u001b[1;33m.\u001b[0m\u001b[0mappend\u001b[0m\u001b[1;33m(\u001b[0m\u001b[0mloss\u001b[0m\u001b[1;33m.\u001b[0m\u001b[0mcpu\u001b[0m\u001b[1;33m(\u001b[0m\u001b[1;33m)\u001b[0m\u001b[1;33m.\u001b[0m\u001b[0mdetach\u001b[0m\u001b[1;33m(\u001b[0m\u001b[1;33m)\u001b[0m\u001b[1;33m.\u001b[0m\u001b[0mnumpy\u001b[0m\u001b[1;33m(\u001b[0m\u001b[1;33m)\u001b[0m\u001b[1;33m)\u001b[0m\u001b[1;33m\u001b[0m\u001b[1;33m\u001b[0m\u001b[0m\n\u001b[0;32m    115\u001b[0m \u001b[1;33m\u001b[0m\u001b[0m\n",
      "\u001b[1;32mc:\\Users\\filou\\design project\\RSteam_Scripts\\4_Python\\Deep_Learning\\unet_whole_model.py\u001b[0m in \u001b[0;36mtraining_step\u001b[1;34m(self, data, target)\u001b[0m\n\u001b[0;32m     71\u001b[0m         \u001b[0mloss\u001b[0m \u001b[1;33m=\u001b[0m \u001b[0mself\u001b[0m\u001b[1;33m.\u001b[0m\u001b[0mcriterion\u001b[0m\u001b[1;33m(\u001b[0m\u001b[0mtarget_pred\u001b[0m\u001b[1;33m,\u001b[0m \u001b[0mtarget\u001b[0m\u001b[1;33m)\u001b[0m\u001b[1;33m\u001b[0m\u001b[1;33m\u001b[0m\u001b[0m\n\u001b[0;32m     72\u001b[0m         \u001b[1;31m#backpropagation\u001b[0m\u001b[1;33m\u001b[0m\u001b[1;33m\u001b[0m\u001b[0m\n\u001b[1;32m---> 73\u001b[1;33m         \u001b[0mloss\u001b[0m\u001b[1;33m.\u001b[0m\u001b[0mbackward\u001b[0m\u001b[1;33m(\u001b[0m\u001b[1;33m)\u001b[0m\u001b[1;33m\u001b[0m\u001b[1;33m\u001b[0m\u001b[0m\n\u001b[0m\u001b[0;32m     74\u001b[0m         \u001b[1;31m#model update\u001b[0m\u001b[1;33m\u001b[0m\u001b[1;33m\u001b[0m\u001b[0m\n\u001b[0;32m     75\u001b[0m         \u001b[0mself\u001b[0m\u001b[1;33m.\u001b[0m\u001b[0moptimizer\u001b[0m\u001b[1;33m.\u001b[0m\u001b[0mstep\u001b[0m\u001b[1;33m(\u001b[0m\u001b[1;33m)\u001b[0m\u001b[1;33m\u001b[0m\u001b[1;33m\u001b[0m\u001b[0m\n",
      "\u001b[1;32m~\\AppData\\Local\\Packages\\PythonSoftwareFoundation.Python.3.9_qbz5n2kfra8p0\\LocalCache\\local-packages\\Python39\\site-packages\\torch\\_tensor.py\u001b[0m in \u001b[0;36mbackward\u001b[1;34m(self, gradient, retain_graph, create_graph, inputs)\u001b[0m\n\u001b[0;32m    490\u001b[0m                 \u001b[0minputs\u001b[0m\u001b[1;33m=\u001b[0m\u001b[0minputs\u001b[0m\u001b[1;33m,\u001b[0m\u001b[1;33m\u001b[0m\u001b[1;33m\u001b[0m\u001b[0m\n\u001b[0;32m    491\u001b[0m             )\n\u001b[1;32m--> 492\u001b[1;33m         torch.autograd.backward(\n\u001b[0m\u001b[0;32m    493\u001b[0m             \u001b[0mself\u001b[0m\u001b[1;33m,\u001b[0m \u001b[0mgradient\u001b[0m\u001b[1;33m,\u001b[0m \u001b[0mretain_graph\u001b[0m\u001b[1;33m,\u001b[0m \u001b[0mcreate_graph\u001b[0m\u001b[1;33m,\u001b[0m \u001b[0minputs\u001b[0m\u001b[1;33m=\u001b[0m\u001b[0minputs\u001b[0m\u001b[1;33m\u001b[0m\u001b[1;33m\u001b[0m\u001b[0m\n\u001b[0;32m    494\u001b[0m         )\n",
      "\u001b[1;32m~\\AppData\\Local\\Packages\\PythonSoftwareFoundation.Python.3.9_qbz5n2kfra8p0\\LocalCache\\local-packages\\Python39\\site-packages\\torch\\autograd\\__init__.py\u001b[0m in \u001b[0;36mbackward\u001b[1;34m(tensors, grad_tensors, retain_graph, create_graph, grad_variables, inputs)\u001b[0m\n\u001b[0;32m    249\u001b[0m     \u001b[1;31m# some Python versions print out the first line of a multi-line function\u001b[0m\u001b[1;33m\u001b[0m\u001b[1;33m\u001b[0m\u001b[0m\n\u001b[0;32m    250\u001b[0m     \u001b[1;31m# calls in the traceback and some print out the last line\u001b[0m\u001b[1;33m\u001b[0m\u001b[1;33m\u001b[0m\u001b[0m\n\u001b[1;32m--> 251\u001b[1;33m     Variable._execution_engine.run_backward(  # Calls into the C++ engine to run the backward pass\n\u001b[0m\u001b[0;32m    252\u001b[0m         \u001b[0mtensors\u001b[0m\u001b[1;33m,\u001b[0m\u001b[1;33m\u001b[0m\u001b[1;33m\u001b[0m\u001b[0m\n\u001b[0;32m    253\u001b[0m         \u001b[0mgrad_tensors_\u001b[0m\u001b[1;33m,\u001b[0m\u001b[1;33m\u001b[0m\u001b[1;33m\u001b[0m\u001b[0m\n",
      "\u001b[1;31mKeyboardInterrupt\u001b[0m: "
     ]
    }
   ],
   "source": [
    "modelname1 = \"no_augmentation_model\"\n",
    "lr = 8e-4\n",
    "n_epochs = 15\n",
    "no_augmentation_model = Model(modelname1, lr = lr)\n",
    "no_augmentation_model.train(dataset, num_epochs= n_epochs)\n",
    "no_augmentation_model.plot_history()"
   ]
  },
  {
   "cell_type": "code",
   "execution_count": null,
   "metadata": {},
   "outputs": [],
   "source": []
  }
 ],
 "metadata": {
  "kernelspec": {
   "display_name": "Python 3",
   "language": "python",
   "name": "python3"
  },
  "language_info": {
   "codemirror_mode": {
    "name": "ipython",
    "version": 3
   },
   "file_extension": ".py",
   "mimetype": "text/x-python",
   "name": "python",
   "nbconvert_exporter": "python",
   "pygments_lexer": "ipython3",
   "version": "3.9.13"
  }
 },
 "nbformat": 4,
 "nbformat_minor": 2
}
